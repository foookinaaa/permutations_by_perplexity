{
 "metadata": {
  "kernelspec": {
   "name": "python3",
   "display_name": "Python 3",
   "language": "python"
  },
  "language_info": {
   "name": "python",
   "version": "3.10.14",
   "mimetype": "text/x-python",
   "codemirror_mode": {
    "name": "ipython",
    "version": 3
   },
   "pygments_lexer": "ipython3",
   "nbconvert_exporter": "python",
   "file_extension": ".py"
  },
  "kaggle": {
   "accelerator": "nvidiaTeslaT4",
   "dataSources": [
    {
     "sourceId": 88046,
     "databundleVersionId": 10229277,
     "sourceType": "competition"
    },
    {
     "sourceId": 10205739,
     "sourceType": "datasetVersion",
     "datasetId": 6306987
    },
    {
     "sourceId": 10270641,
     "sourceType": "datasetVersion",
     "datasetId": 6354612
    },
    {
     "sourceId": 209577560,
     "sourceType": "kernelVersion"
    },
    {
     "sourceId": 104492,
     "sourceType": "modelInstanceVersion",
     "modelInstanceId": 72255,
     "modelId": 76277
    }
   ],
   "dockerImageVersionId": 30804,
   "isInternetEnabled": true,
   "language": "python",
   "sourceType": "notebook",
   "isGpuEnabled": true
  }
 },
 "nbformat_minor": 4,
 "nbformat": 4,
 "cells": [
  {
   "cell_type": "code",
   "source": [
    "import pandas as pd\n",
    "import numpy as np\n",
    "from tqdm import tqdm\n",
    "import numpy as np\n",
    "import random\n",
    "import time\n",
    "import math\n",
    "\n",
    "import numpy as np\n",
    "import torch as T\n",
    "from transformers import AutoTokenizer, AutoModelForCausalLM\n",
    "import gc\n",
    "from itertools import chain\n",
    "from torch.nn.utils.rnn import pad_sequence\n",
    "from math import exp"
   ],
   "metadata": {
    "trusted": true,
    "execution": {
     "iopub.status.busy": "2024-12-22T16:43:55.432940Z",
     "iopub.execute_input": "2024-12-22T16:43:55.433501Z",
     "iopub.status.idle": "2024-12-22T16:44:00.489695Z",
     "shell.execute_reply.started": "2024-12-22T16:43:55.433461Z",
     "shell.execute_reply": "2024-12-22T16:44:00.488826Z"
    },
    "pycharm": {
     "is_executing": true
    }
   },
   "outputs": [],
   "execution_count": null
  },
  {
   "cell_type": "code",
   "source": [
    "df = pd.read_csv('/kaggle/input/santa-2024/sample_submission.csv')"
   ],
   "metadata": {
    "collapsed": false,
    "jupyter": {
     "outputs_hidden": false
    },
    "trusted": true,
    "execution": {
     "iopub.status.busy": "2024-12-22T16:04:50.579788Z",
     "iopub.execute_input": "2024-12-22T16:04:50.580167Z",
     "iopub.status.idle": "2024-12-22T16:04:50.589887Z",
     "shell.execute_reply.started": "2024-12-22T16:04:50.580138Z",
     "shell.execute_reply": "2024-12-22T16:04:50.589079Z"
    }
   },
   "outputs": [],
   "execution_count": 2
  },
  {
   "cell_type": "code",
   "source": [
    "df"
   ],
   "metadata": {
    "trusted": true,
    "execution": {
     "iopub.status.busy": "2024-12-22T16:04:50.590825Z",
     "iopub.execute_input": "2024-12-22T16:04:50.591040Z",
     "iopub.status.idle": "2024-12-22T16:04:50.604511Z",
     "shell.execute_reply.started": "2024-12-22T16:04:50.591017Z",
     "shell.execute_reply": "2024-12-22T16:04:50.603736Z"
    }
   },
   "outputs": [
    {
     "execution_count": 3,
     "output_type": "execute_result",
     "data": {
      "text/plain": "   id                                               text\n0   0  advent chimney elf family fireplace gingerbrea...\n1   1  advent chimney elf family fireplace gingerbrea...\n2   2  yuletide decorations gifts cheer holiday carol...\n3   3  yuletide decorations gifts cheer holiday carol...\n4   4  hohoho candle poinsettia snowglobe peppermint ...\n5   5  advent chimney elf family fireplace gingerbrea...",
      "text/html": "<div>\n<style scoped>\n    .dataframe tbody tr th:only-of-type {\n        vertical-align: middle;\n    }\n\n    .dataframe tbody tr th {\n        vertical-align: top;\n    }\n\n    .dataframe thead th {\n        text-align: right;\n    }\n</style>\n<table border=\"1\" class=\"dataframe\">\n  <thead>\n    <tr style=\"text-align: right;\">\n      <th></th>\n      <th>id</th>\n      <th>text</th>\n    </tr>\n  </thead>\n  <tbody>\n    <tr>\n      <th>0</th>\n      <td>0</td>\n      <td>advent chimney elf family fireplace gingerbrea...</td>\n    </tr>\n    <tr>\n      <th>1</th>\n      <td>1</td>\n      <td>advent chimney elf family fireplace gingerbrea...</td>\n    </tr>\n    <tr>\n      <th>2</th>\n      <td>2</td>\n      <td>yuletide decorations gifts cheer holiday carol...</td>\n    </tr>\n    <tr>\n      <th>3</th>\n      <td>3</td>\n      <td>yuletide decorations gifts cheer holiday carol...</td>\n    </tr>\n    <tr>\n      <th>4</th>\n      <td>4</td>\n      <td>hohoho candle poinsettia snowglobe peppermint ...</td>\n    </tr>\n    <tr>\n      <th>5</th>\n      <td>5</td>\n      <td>advent chimney elf family fireplace gingerbrea...</td>\n    </tr>\n  </tbody>\n</table>\n</div>"
     },
     "metadata": {}
    }
   ],
   "execution_count": 3
  },
  {
   "cell_type": "code",
   "source": [
    "import numpy as np\n",
    "import torch as T\n",
    "from transformers import AutoTokenizer, AutoModelForCausalLM\n",
    "T.set_grad_enabled(False)\n",
    "\n",
    "model_name = \"/kaggle/input/gemma-2/transformers/gemma-2-9b/2\" #\"gpt2\"\n",
    "\n",
    "b = 16 #32 #64 #128\n",
    "B = 512\n",
    "max_steps = 1024\n",
    "patience = 128\n",
    "\n",
    "loss_fct = T.nn.CrossEntropyLoss(reduction='none')\n",
    "\n",
    "DEVICE = T.device('cuda' if T.cuda.is_available() else 'cpu')\n",
    "tokenizer = AutoTokenizer.from_pretrained(model_name)\n",
    "model = AutoModelForCausalLM.from_pretrained(\n",
    "                model_name,\n",
    "                torch_dtype = T.float16 if DEVICE.type == 'cuda' else T.float32,\n",
    "                device_map='auto')\n",
    "model.eval()\n",
    "\n",
    "# words from tokenizer\n",
    "vocab = tokenizer.get_vocab()\n",
    "vocab = {vocab[i]:i for i in vocab}\n",
    "V = len(vocab)\n",
    "\n",
    "# first symbol should be english letter\n",
    "unbreakable = np.zeros((V,))\n",
    "for v in range(V):\n",
    "    unbreakable[v] = vocab[v][0].lower() in 'abcdefghijklmnopqrstuvwxyz'\n",
    "\n",
    "print(f'Loaded model {model_name}')\n",
    "\n",
    "def shuffle(s):\n",
    "\n",
    "    with T.no_grad():\n",
    "        sentence = tokenizer(\n",
    "                    s,\n",
    "                    return_tensors='pt',\n",
    "                    add_special_tokens=False,)\n",
    "        before = tokenizer(tokenizer.bos_token, return_tensors='pt',\n",
    "                    add_special_tokens=False,)\n",
    "        after = tokenizer(tokenizer.eos_token, return_tensors='pt',\n",
    "                    add_special_tokens=False,)\n",
    "    \n",
    "        mask = (1-unbreakable[sentence['input_ids']])\n",
    "        mask[0] = 1\n",
    "\n",
    "        sentence = {k: v.to(DEVICE) for k, v in sentence.items()}\n",
    "        before = {k: v.to(DEVICE) for k, v in before.items()}\n",
    "        after = {k: v.to(DEVICE) for k, v in after.items()}\n",
    "                                        \n",
    "        for nch, k in enumerate(ibis(model, DEVICE, before, sentence, after, b, B, max_steps, patience, False, mask)):\n",
    "            if nch==0: \n",
    "                starting = k.item()\n",
    "                print('Original order NLL = ', starting)\n",
    "            else:\n",
    "                print(k[0], k[1], k[2], tokenizer.decode(k[3][1:-1], clean_up_tokenization_spaces=False))"
   ],
   "metadata": {
    "trusted": true,
    "execution": {
     "iopub.status.busy": "2024-12-22T16:44:03.138116Z",
     "iopub.execute_input": "2024-12-22T16:44:03.139245Z",
     "iopub.status.idle": "2024-12-22T16:46:48.755569Z",
     "shell.execute_reply.started": "2024-12-22T16:44:03.139207Z",
     "shell.execute_reply": "2024-12-22T16:46:48.754582Z"
    }
   },
   "outputs": [
    {
     "output_type": "display_data",
     "data": {
      "text/plain": "Loading checkpoint shards:   0%|          | 0/8 [00:00<?, ?it/s]",
      "application/vnd.jupyter.widget-view+json": {
       "version_major": 2,
       "version_minor": 0,
       "model_id": "c8fc85fd1e654a7ab7bc6547c981345f"
      }
     },
     "metadata": {}
    },
    {
     "name": "stdout",
     "text": "Loaded model /kaggle/input/gemma-2/transformers/gemma-2-9b/2\n",
     "output_type": "stream"
    }
   ],
   "execution_count": 2
  },
  {
   "cell_type": "code",
   "source": [
    "import torch as T\n",
    "import numpy as np\n",
    "import gc\n",
    "\n",
    "\n",
    "# def score(model, model_inputs, debug=False, single_input=False):\n",
    "#     with T.no_grad():\n",
    "#         # logits from model for sentence in tokens\n",
    "#         outputs = model(**model_inputs, use_cache=False)\n",
    "#         # convert logits to preds\n",
    "#         # computes the log probabilities over the last dimension (vocabulary size)\n",
    "#         # transforms log probabilities into positive loss-like values, which will be used for scoring\n",
    "#         lsm = -outputs[0].log_softmax(2)\n",
    "#         preds = T.zeros_like(lsm)\n",
    "#         # For each sequence, shifts the log probability scores by one position forward, creating a lagging structure\n",
    "#         preds[:,1:] = lsm[:,:-1]\n",
    "#         # extracts scores from preds corresponding to the token indices in padded\n",
    "#         wordscores = preds.gather(2,model_inputs['input_ids'].unsqueeze(2)).squeeze(2)\n",
    "#         # get single score for each sequence\n",
    "#         scores = wordscores.sum(1)\n",
    "    \n",
    "#         # Total score for each sequence\n",
    "#         # Individual scores for each word in the sequence\n",
    "#         # minus shifts the log probability scores by one position forward\n",
    "#         return scores.cpu(), wordscores.cpu(), -preds.cpu()\n",
    "\n",
    "def score(model, model_inputs, debug=False):\n",
    "    with T.no_grad():\n",
    "        if debug:\n",
    "            print(model_inputs)\n",
    "        # Forward pass through the model\n",
    "        outputs = model(**model_inputs, use_cache=False)\n",
    "        logits = outputs['logits'] # batch_size, 15, 256000\n",
    "\n",
    "        lsm = -logits.log_softmax(dim=-1)\n",
    "        preds = T.zeros_like(lsm)\n",
    "        preds[:,1:] = lsm[:,:-1]\n",
    "\n",
    "        shift_logits = logits[..., :-1, :].contiguous() \n",
    "        shift_labels = model_inputs['input_ids'][..., 1:].contiguous()  \n",
    "        \n",
    "        loss = loss_fct(\n",
    "            shift_logits.view(-1, shift_logits.size(-1)),\n",
    "            shift_labels.view(-1)\n",
    "        )\n",
    "        loss = loss.view(len(logits), -1)\n",
    "        sequence_loss = loss.mean(dim=1)\n",
    "        # sequence_loss = loss.sum() / len(loss)\n",
    "        # loss = loss.view(shift_logits.size(0), -1)\n",
    "        \n",
    "        # valid_length = (shift_labels != loss_fct.ignore_index).sum(dim=-1)\n",
    "        # loss = T.sum(loss, -1) / valid_length\n",
    "        # ppl = T.exp(loss.float())\n",
    "        ppl = T.exp(sequence_loss.float())\n",
    "\n",
    "        word_scores = preds.gather(2, model_inputs['input_ids'].unsqueeze(2)).squeeze(2)\n",
    "        sequence_scores = word_scores.sum(dim=1)\n",
    "        # Return sequence scores, word-level scores, and negative log probabilities\n",
    "        return ppl.cpu(), word_scores.cpu(), -preds.cpu()\n",
    "\n",
    "\n",
    "cand_orders = { 3: [[1,3,2,4]], \n",
    "                4: [[1,4,3,2,5]], \n",
    "                5: [[1,3,2,5,4,6],[1,3,5,2,4,6],[1,3,5,4,2,6],[1,4,2,5,3,6],[1,4,3,5,2,6],[1,5,4,3,2,6],[1,5,2,4,3,6],[1,5,3,2,4,6]] }\n",
    "\n",
    "\n",
    "def shuffle_proposals(mat, topk, bs, kopt):\n",
    "    \"\"\"\n",
    "    mat: A 2D tensor representing pairwise scores or relationships between sequence elements.\n",
    "    topk: The number of top candidate proposals to evaluate.\n",
    "    bs: Batch size; the number of proposals to return.\n",
    "    kopt: Number of tokens to shuffle. Determines the complexity of reshuffling.\n",
    "    \"\"\"\n",
    "    # Length of the sequence (number of tokens).\n",
    "    L = mat.shape[0]\n",
    "    # tensor for kopt number of index permutations\n",
    "    I = T.zeros((kopt,)+(L,)*(kopt)).long()\n",
    "    for i in range(kopt):\n",
    "        I[i] = T.arange(L).view((-1,) + (1,)*(kopt-1-i))\n",
    "    # A boolean tensor that ensures the selected indices are in strictly increasing order\n",
    "    # This avoids duplicate or invalid combinations, as each token can only appear once\n",
    "    mask = (0 < I[0]) \n",
    "    for i in range(kopt-1):\n",
    "        mask *= (I[i] < I[i+1])\n",
    "    lv = mat.view(-1)\n",
    "    orders = cand_orders[kopt]\n",
    "    # randomly selected shuffle order from cand_orders\n",
    "    o = np.array(orders[np.random.randint(len(orders))])\n",
    "    # the score for the proposed new order (based on o)\n",
    "    then = T.zeros((L,)*kopt)\n",
    "    # The score for the current order of tokens\n",
    "    now = T.zeros_like(then)\n",
    "    for i in range(kopt):\n",
    "        now += lv[ L*I[i] + I[i] ]\n",
    "        then += lv[ L*I[o[i]-1] + I[o[i+1]-2] ]\n",
    "    # The score improvement (positive indicates a better proposal).\n",
    "    A = then - now\n",
    "    # Invalid combinations (those not passing the mask) are heavily penalized\n",
    "    A[~mask] = -1001\n",
    "\n",
    "    # Finds the top topk reshuffling proposals based on score differences (A)\n",
    "    topv, topi = A.view(-1).topk(min(A.numel(), topk))\n",
    "    # Randomly selects bs indices from the top topk proposals for batching\n",
    "    indices = np.random.randint(topi.shape[0],size=(bs,))\n",
    "    topv = topv[indices]\n",
    "    topi = topi[indices]\n",
    "    \n",
    "    orders = [o] * bs\n",
    "    # Extracts the indices for each token\n",
    "    imod = [(topi//L**(kopt-1-i))%L for i in range(kopt)]\n",
    "\n",
    "    # Stacks the indices into a tensor of shape (bs, kopt) -> The indices for the shuffled proposals\n",
    "    # Scores of the selected proposals\n",
    "    # The reshuffling order used for each proposal.\n",
    "    return T.stack(imod,-1), topv, orders\n",
    "\n",
    "\n",
    "def ibis(model, device, before, sentence, after, bs, topk, its, patience, warminit=False, gluemask=None):\n",
    "    sent = sentence\n",
    "    # bos + sentence + eos tokens\n",
    "    padded = {\n",
    "    'input_ids': T.cat([before['input_ids'], sent['input_ids'], after['input_ids']], dim=1),  \n",
    "    'attention_mask': T.cat([before['attention_mask'], sent['attention_mask'], after['attention_mask']], dim=1)\n",
    "    }\n",
    "    # print(padded)\n",
    "    zz = score(model, padded)\n",
    "    # Total score for sentence\n",
    "    # orscore = zz[0][0]\n",
    "    orscore = zz[0]\n",
    "    yield orscore\n",
    "\n",
    "    # Total score for sentence\n",
    "    # bestscore = zz[0][0] \n",
    "    bestscore = zz[0]\n",
    "    # minus shifts the log probability scores by one position forward\n",
    "    bestsc = zz[2][0]\n",
    "\n",
    "    # indexes of the last token\n",
    "    lfix,rfix,blanks=before['input_ids'].shape[0]-1,after['input_ids'].shape[0]-1,0\n",
    "    # create bs number of lists with tokens: bos + sentence + eos\n",
    "    permsents = [T.cat([before['input_ids'], sent['input_ids'], after['input_ids']], dim=1).cpu().squeeze() for _ in range(bs) ]\n",
    "    # True for each token in bos + sentence + eos\n",
    "    bestmask = np.full(permsents[0].shape, True)\n",
    "    # put custom gluemask instead of bestmask for sentence tokens (not include eos and bos, they always True)\n",
    "    if gluemask is not None: bestmask[lfix+1:-rfix-1] = gluemask\n",
    "    # create bs number of bestmask\n",
    "    permmasks = [ bestmask.copy() for _ in range(bs) ]\n",
    "\n",
    "    # if warminit=False\n",
    "    if not warminit:\n",
    "        # all True tokens + last token in sentence\n",
    "        seg = list(np.nonzero(bestmask[lfix+1:-rfix-1])[0]) + [ len(sent['input_ids'][0]) ]\n",
    "        for b in range(1, bs):\n",
    "            # permutate seg -> tokens that we agreed to permutate is True\n",
    "            perm = np.random.permutation(len(seg)-1)\n",
    "            # permuted sentence segments\n",
    "            ns = []\n",
    "            # permuted mask segments\n",
    "            nm = []\n",
    "            for i in range(len(seg)-1):\n",
    "                # Extracts the tokens corresponding to the ith randomly selected segment\n",
    "                ns.append(sent['input_ids'][0].cpu()[seg[perm[i]]:seg[perm[i]+1]])\n",
    "                # Extracts the mask for the same segment\n",
    "                nm.append(bestmask[lfix+1:-rfix-1][seg[perm[i]]:seg[perm[i]+1]])\n",
    "            # Updates the bth sentence and mask in the batch\n",
    "            # Concatenates the permuted sentence segments (ns) into a single tensor.\n",
    "            permsents[b][lfix+1:-rfix-1] = T.cat( ns, 0 )\n",
    "            permmasks[b][lfix+1:-rfix-1] = np.concatenate( nm, 0 )\n",
    "    # lists with permuted tokens, len = bs \n",
    "    padded = T.stack(permsents,0).to(device)\n",
    "    bestsent = np.zeros(padded[0].shape)\n",
    "    bestscore = 100000000000000000 \n",
    "    movetype = 'init'\n",
    "    # Counts the number of improvements made during the process\n",
    "    nch = 0\n",
    "    # Array to hold indices of tokens considered for modification\n",
    "    candidates = np.array([1]*bs)\n",
    "    # Keeps track of the iteration at which the last improvement occurred\n",
    "    last_imp = 0\n",
    "\n",
    "    # repeat for max_steps\n",
    "    for it in range(its):  \n",
    "        padded_batch = pad_sequence(padded, batch_first=True, padding_value=0)\n",
    "        attention_mask = T.zeros_like(padded_batch)\n",
    "        attention_mask[padded_batch != 0] = 1\n",
    "    \n",
    "        model_inputs = {\n",
    "            'input_ids': padded_batch,\n",
    "            'attention_mask': attention_mask\n",
    "        }\n",
    "        gc.collect()  \n",
    "        # if current step minus last step with inprovement score is more than patience, break\n",
    "        if it - last_imp > patience: \n",
    "            break\n",
    "\n",
    "        sc, wsc, spr = score(model, model_inputs)\n",
    "        # At the first iteration 0, the word scores (bestwsc) are saved for reference\n",
    "        if it == 0: \n",
    "            bestwsc = wsc[0] \n",
    "        # list of scores for each token\n",
    "        sc = sc.numpy()\n",
    "        # sc = np.array([t.item() for t in sc], dtype=np.float16)\n",
    "        # if score for any sequence of tokens lower than best score before\n",
    "        if sc.min() < bestscore:\n",
    "            # update best\n",
    "            if it == 0 or np.any(permsents[sc.argmin()] != bestsent):\n",
    "                nch += 1 \n",
    "                # The sequence corresponding to the lowest score in the batch\n",
    "                bestsent = permsents[sc.argmin()]\n",
    "                bestscore = sc.min()\n",
    "                bestsc = spr[sc.argmin()]\n",
    "                bestwsc = wsc[sc.argmin()]\n",
    "                bestmask = permmasks[sc.argmin()]\n",
    "    \n",
    "                if type(bestsent)==T.Tensor: \n",
    "                    bestsent = bestsent.numpy()\n",
    "                \n",
    "                last_imp = it\n",
    "                # step, 'init', ...\n",
    "                yield (it, movetype, bestscore, bestsent, bestmask)\n",
    "\n",
    "        thespr = bestsc\n",
    "        kopt = np.random.randint(3,6)\n",
    "        # Probabilities used to select candidate tokens for modification\n",
    "        cutprobs = np.ones_like(bestwsc)\n",
    "        # Tokens outside the mask (bestmask == False) are not considered\n",
    "        cutprobs[~bestmask] = 0.\n",
    "        # Boundary tokens (e.g., bos and eos) have higher probabilities to ensure stability\n",
    "        cutprobs[lfix] = 100\n",
    "        cutprobs[-1-rfix] = 100\n",
    "\n",
    "        # Global search for tokens to modify\n",
    "        # if the sequence length exceeds 6 tokens\n",
    "        if it%2 == 0 and len(bestsent)-lfix-rfix > 6:\n",
    "            # Number of candidates to select\n",
    "            ncand = bestmask[lfix:len(bestsent)-rfix].sum()\n",
    "            # limit number of candidates to select to 40 or 20\n",
    "            if kopt == 4: ncand = min(40,ncand)\n",
    "            if kopt == 5: ncand = min(20,ncand)  \n",
    "            l,r = lfix, len(bestsent)-rfix\n",
    "            # Selects ncand indices from the range [lfix, len(bestsent)-rfix], probabilities are normalized from cutprobs\n",
    "            candidates = np.random.choice(np.arange(l,r), replace=False, p=cutprobs[l:r]/cutprobs[l:r].sum(), size=(ncand,))\n",
    "            candidates.sort()\n",
    "            movetype=f'GS {kopt}'\n",
    "        else: \n",
    "            # Local search focuses on a small portion of the sequence.\n",
    "            # Performed on odd iterations (it%2 != 0) or when the sequence length <= 6\n",
    "            # Randomly determines the length of the local window (7-15 tokens)\n",
    "            ropt = np.random.randint(7,15)\n",
    "            try:\n",
    "                start = np.random.randint(lfix+1, len(bestsent)-ropt-rfix)\n",
    "                l,r = start,start+ropt\n",
    "                candidates = np.random.choice(np.arange(l,r), replace=False, p=cutprobs[l:r]/cutprobs[l:r].sum(), size=(min(ropt,(cutprobs[l:r]>0).sum()),))\n",
    "            except:\n",
    "                ropt = min(15,len(bestsent)-lfix-rfix-2)\n",
    "                start = np.random.randint(lfix+1,max(lfix+2,len(bestsent)-ropt-rfix))\n",
    "                l,r = start,start+ropt\n",
    "                candidates = np.random.choice(np.arange(l,r), replace=False, p=cutprobs[l:r]/cutprobs[l:r].sum(), size=(min(ropt,(cutprobs[l:r]>0).sum()),))\n",
    "            candidates.sort()\n",
    "            movetype=f'LS {kopt}'\n",
    "\n",
    "        # Calculates the pairwise scores between candidate tokens using the shifted probabilities.\n",
    "        # thespr: The shifted probabilities (log probabilities shifted by one position) for the sequence. It is used to calculate pairwise scores between candidates.\n",
    "        # bestsent[candidates]: Extracts the indices of tokens in bestsent that are selected as candidates.\n",
    "        links = thespr[:,bestsent[candidates]][candidates]\n",
    "        permsents = []\n",
    "        permmasks = []\n",
    "        # i: Indices of tokens for each proposal.\n",
    "        # v: Scores for the proposals.\n",
    "        # o: The shuffle orders applied to the candidates.\n",
    "        i,v,o = shuffle_proposals(links, topk, bs, kopt)\n",
    "        \n",
    "        for j in range(bs):\n",
    "            # bos + shuffled sequense + eos\n",
    "            inds = [candidates[0]] + list(candidates[i[j]]) + [candidates[-1]]\n",
    "            # Only process proposals with valid scores\n",
    "            if v[j] > -1000:\n",
    "                # Start with the portion of the sequence before the first candidate\n",
    "                pieces = [bestsent[:inds[0]]]\n",
    "                maskpieces = [bestmask[:inds[0]]]\n",
    "                for k in range(kopt+1):\n",
    "                    # Append shuffled segments\n",
    "                    pieces.append(bestsent[inds[o[j][k]-1]:inds[o[j][k]]])\n",
    "                    maskpieces.append(bestmask[inds[o[j][k]-1]:inds[o[j][k]]])\n",
    "                # Add the portion of the sequence after the last candidate\n",
    "                pieces.append(bestsent[inds[-1]:])\n",
    "                newsent = np.concatenate(pieces,0)\n",
    "                maskpieces.append(bestmask[inds[-1]:])\n",
    "                newmask = np.concatenate(maskpieces,0)\n",
    "            # If the proposal is invalid, keep the original sequence and mask\n",
    "            else: newsent, newmask = bestsent, bestmask\n",
    "                \n",
    "            permsents.append(newsent)\n",
    "            permmasks.append(newmask)\n",
    "\n",
    "        padded = T.stack(list(map(T.from_numpy,permsents)),0).to(device)"
   ],
   "metadata": {
    "trusted": true,
    "execution": {
     "iopub.status.busy": "2024-12-22T16:46:48.756971Z",
     "iopub.execute_input": "2024-12-22T16:46:48.757474Z",
     "iopub.status.idle": "2024-12-22T16:46:48.790618Z",
     "shell.execute_reply.started": "2024-12-22T16:46:48.757444Z",
     "shell.execute_reply": "2024-12-22T16:46:48.789675Z"
    }
   },
   "outputs": [],
   "execution_count": 3
  },
  {
   "cell_type": "code",
   "source": [
    "shuffle(df.loc[0, 'text'])"
   ],
   "metadata": {
    "trusted": true,
    "execution": {
     "iopub.status.busy": "2024-12-22T14:27:57.204285Z",
     "iopub.execute_input": "2024-12-22T14:27:57.204627Z",
     "iopub.status.idle": "2024-12-22T14:39:09.266419Z",
     "shell.execute_reply.started": "2024-12-22T14:27:57.204598Z",
     "shell.execute_reply": "2024-12-22T14:39:09.265694Z"
    }
   },
   "outputs": [
    {
     "name": "stdout",
     "text": "Original order NLL =  3887.902099609375\n0 init 3887.902 advent chimney elf family fireplace gingerbread mistletoe ornament reindeer scrooge\n1 GS 5 2122.0889 advent mistletoe family fireplace gingerbread ornament reindeer chimney elf scrooge\n3 GS 4 1752.4147 advent mistletoe family scrooge reindeer chimney elf fireplace gingerbread ornament\n4 LS 5 1608.1061 advent mistletoe scrooge reindeer family elf chimney fireplace gingerbread ornament\n5 GS 5 1469.9281 advent mistletoe scrooge reindeer gingerbread elf family chimney fireplace ornament\n6 LS 3 1297.207 advent mistletoe scrooge family reindeer gingerbread elf chimney fireplace ornament\n23 GS 5 1228.1709 advent mistletoe family gingerbread elf scrooge reindeer chimney fireplace ornament\n39 GS 3 1223.3827 advent mistletoe family gingerbread elf scrooge chimney fireplace reindeer ornament\n",
     "output_type": "stream"
    }
   ],
   "execution_count": 21
  },
  {
   "cell_type": "code",
   "source": [
    "shuffle(df.loc[1, 'text'])"
   ],
   "metadata": {
    "trusted": true,
    "execution": {
     "iopub.status.busy": "2024-12-22T14:54:30.707932Z",
     "iopub.execute_input": "2024-12-22T14:54:30.708300Z",
     "iopub.status.idle": "2024-12-22T15:07:27.254807Z",
     "shell.execute_reply.started": "2024-12-22T14:54:30.708265Z",
     "shell.execute_reply": "2024-12-22T15:07:27.253968Z"
    }
   },
   "outputs": [
    {
     "name": "stdout",
     "text": "Original order NLL =  6068.92919921875\n0 init 6068.929 advent chimney elf family fireplace gingerbread mistletoe ornament reindeer scrooge walk give jump drive bake the sleep night laugh and\n1 GS 3 4042.7786 advent chimney elf family fireplace gingerbread mistletoe ornament reindeer scrooge walk sleep give jump drive bake the night laugh and\n3 GS 3 2385.929 advent scrooge walk sleep give jump drive bake the night chimney elf family fireplace gingerbread mistletoe ornament reindeer laugh and\n5 GS 5 2113.8157 advent scrooge walk sleep and laugh reindeer give jump drive bake the night chimney elf family fireplace gingerbread mistletoe ornament\n6 LS 5 1939.7462 advent scrooge walk sleep and laugh night drive reindeer give jump bake the chimney elf family fireplace gingerbread mistletoe ornament\n7 GS 4 1583.1748 advent scrooge walk the night drive reindeer give jump bake sleep and laugh chimney elf family fireplace gingerbread mistletoe ornament\n9 GS 4 1343.623 advent scrooge walk the night drive and laugh sleep reindeer give jump bake chimney elf family fireplace gingerbread mistletoe ornament\n10 LS 4 1185.7432 advent scrooge walk the night drive and laugh sleep reindeer give jump bake gingerbread family fireplace chimney elf mistletoe ornament\n18 LS 5 1162.8088 advent scrooge walk the night drive reindeer jump give and laugh sleep bake gingerbread family fireplace chimney elf mistletoe ornament\n19 GS 5 1158.2754 advent scrooge walk the night drive reindeer jump give and laugh sleep bake chimney fireplace elf mistletoe ornament gingerbread family\n22 LS 3 1144.7811 advent scrooge walk the night give and laugh drive reindeer jump sleep bake chimney fireplace elf mistletoe ornament gingerbread family\n23 GS 3 1113.9027 advent scrooge walk the night give and laugh drive reindeer jump sleep bake chimney fireplace mistletoe elf ornament gingerbread family\n27 GS 4 1038.2714 advent scrooge walk the night drive reindeer jump sleep laugh give and bake chimney fireplace mistletoe elf ornament gingerbread family\n37 GS 4 967.7753 advent and bake walk the night drive reindeer jump sleep laugh give scrooge chimney fireplace mistletoe elf ornament gingerbread family\n38 LS 4 912.6991 advent and bake walk the night drive reindeer jump sleep scrooge give laugh chimney fireplace mistletoe elf ornament gingerbread family\n49 GS 3 895.04596 advent and bake walk the night drive reindeer jump sleep scrooge laugh give chimney fireplace mistletoe elf ornament gingerbread family\n71 GS 3 874.31213 advent and bake walk the night drive reindeer jump sleep scrooge laugh give chimney fireplace mistletoe elf gingerbread ornament family\n",
     "output_type": "stream"
    }
   ],
   "execution_count": 12
  },
  {
   "cell_type": "code",
   "source": [
    "shuffle(df.loc[2, 'text'])"
   ],
   "metadata": {
    "trusted": true,
    "execution": {
     "iopub.status.busy": "2024-12-22T15:08:28.201107Z",
     "iopub.execute_input": "2024-12-22T15:08:28.202034Z",
     "iopub.status.idle": "2024-12-22T15:22:41.963808Z",
     "shell.execute_reply.started": "2024-12-22T15:08:28.201993Z",
     "shell.execute_reply": "2024-12-22T15:22:41.962786Z"
    }
   },
   "outputs": [
    {
     "name": "stdout",
     "text": "Original order NLL =  1118.2623291015625\n0 init 1118.2623 yuletide decorations gifts cheer holiday carol magi nutcracker polar grinch sleigh chimney workshop stocking ornament holly jingle beard naughty nice\n1 GS 4 840.8178 yuletide decorations gifts cheer holiday ornament holly jingle beard sleigh chimney workshop stocking carol magi nutcracker polar grinch naughty nice\n3 GS 5 808.6066 yuletide decorations gifts cheer holiday ornament holly jingle polar beard sleigh chimney workshop grinch naughty nice stocking carol magi nutcracker\n4 LS 4 786.7958 yuletide decorations gifts ornament holiday cheer holly jingle polar beard sleigh chimney workshop grinch naughty nice stocking carol magi nutcracker\n5 GS 4 667.7449 yuletide decorations gifts ornament holiday cheer holly jingle naughty nice stocking chimney workshop grinch polar beard sleigh carol magi nutcracker\n7 GS 3 632.2082 yuletide decorations gifts ornament holiday cheer holly jingle naughty nice stocking chimney sleigh workshop grinch polar beard carol magi nutcracker\n9 GS 4 553.57996 yuletide decorations holiday cheer holly jingle naughty nice stocking chimney sleigh workshop grinch polar beard ornament gifts carol magi nutcracker\n11 GS 3 536.5481 yuletide decorations holiday cheer holly jingle naughty nice carol magi nutcracker stocking chimney sleigh workshop grinch polar beard ornament gifts\n16 LS 4 522.0757 yuletide decorations holiday cheer holly jingle magi nutcracker carol naughty nice stocking chimney sleigh workshop grinch polar beard ornament gifts\n35 GS 4 513.9816 yuletide decorations holiday cheer holly jingle naughty nice nutcracker carol magi stocking chimney sleigh workshop grinch polar beard ornament gifts\n39 GS 5 502.07526 yuletide decorations holiday cheer holly jingle magi naughty nice nutcracker stocking chimney carol sleigh workshop grinch polar beard ornament gifts\n49 GS 4 500.11783 yuletide decorations holiday cheer holly jingle magi naughty nice nutcracker ornament polar beard stocking chimney carol sleigh workshop grinch gifts\n51 GS 3 457.1447 yuletide decorations holiday cheer holly jingle magi naughty nice nutcracker ornament stocking chimney carol sleigh workshop grinch polar beard gifts\n62 LS 4 441.35245 yuletide cheer holiday decorations holly jingle magi naughty nice nutcracker ornament stocking chimney carol sleigh workshop grinch polar beard gifts\n85 GS 3 424.44452 yuletide cheer holiday decorations gifts holly jingle magi naughty nice nutcracker ornament stocking chimney carol sleigh workshop grinch polar beard\n",
     "output_type": "stream"
    }
   ],
   "execution_count": 14
  },
  {
   "cell_type": "code",
   "source": [
    "df = pd.read_csv('/kaggle/input/sim-ann-submit/submission_simulated_annealing.csv')"
   ],
   "metadata": {
    "trusted": true,
    "execution": {
     "iopub.status.busy": "2024-12-22T16:47:01.923332Z",
     "iopub.execute_input": "2024-12-22T16:47:01.923662Z",
     "iopub.status.idle": "2024-12-22T16:47:01.944346Z",
     "shell.execute_reply.started": "2024-12-22T16:47:01.923632Z",
     "shell.execute_reply": "2024-12-22T16:47:01.943729Z"
    }
   },
   "outputs": [],
   "execution_count": 4
  },
  {
   "cell_type": "code",
   "source": [
    "shuffle(df.loc[0, 'text'])"
   ],
   "metadata": {
    "trusted": true,
    "execution": {
     "iopub.status.busy": "2024-12-22T14:39:35.426795Z",
     "iopub.execute_input": "2024-12-22T14:39:35.427487Z",
     "iopub.status.idle": "2024-12-22T14:48:42.241926Z",
     "shell.execute_reply.started": "2024-12-22T14:39:35.427453Z",
     "shell.execute_reply": "2024-12-22T14:48:42.241123Z"
    }
   },
   "outputs": [
    {
     "name": "stdout",
     "text": "Original order NLL =  498.1680603027344\n0 init 496.2259 reindeer mistletoe elf scrooge gingerbread chimney fireplace ornament family advent\n",
     "output_type": "stream"
    }
   ],
   "execution_count": 25
  },
  {
   "cell_type": "code",
   "source": [
    "shuffle(df.loc[1, 'text'])"
   ],
   "metadata": {
    "trusted": true,
    "execution": {
     "iopub.status.busy": "2024-12-22T15:23:08.121752Z",
     "iopub.execute_input": "2024-12-22T15:23:08.122098Z",
     "iopub.status.idle": "2024-12-22T15:35:51.545846Z",
     "shell.execute_reply.started": "2024-12-22T15:23:08.122066Z",
     "shell.execute_reply": "2024-12-22T15:35:51.545099Z"
    }
   },
   "outputs": [
    {
     "name": "stdout",
     "text": "Original order NLL =  580.1468505859375\n0 init 577.8851 reindeer mistletoe elf scrooge gingerbread chimney fireplace ornament family advent night sleep walk drive give laugh jump bake and the\n2 LS 3 568.9258 reindeer mistletoe elf scrooge gingerbread chimney fireplace ornament family advent night sleep walk drive laugh jump give bake and the\n41 GS 3 562.2976 reindeer mistletoe elf scrooge gingerbread chimney fireplace ornament advent family night sleep walk drive laugh jump give bake and the\n63 GS 3 549.27203 reindeer mistletoe elf and the scrooge gingerbread chimney fireplace ornament advent family night sleep walk drive laugh jump give bake\n",
     "output_type": "stream"
    }
   ],
   "execution_count": 18
  },
  {
   "cell_type": "code",
   "source": [
    "shuffle(df.loc[2, 'text'])"
   ],
   "metadata": {
    "trusted": true,
    "execution": {
     "iopub.status.busy": "2024-12-22T15:42:17.393751Z",
     "iopub.execute_input": "2024-12-22T15:42:17.394126Z",
     "iopub.status.idle": "2024-12-22T16:00:46.806714Z",
     "shell.execute_reply.started": "2024-12-22T15:42:17.394094Z",
     "shell.execute_reply": "2024-12-22T16:00:46.805958Z"
    }
   },
   "outputs": [
    {
     "name": "stdout",
     "text": "Original order NLL =  394.0833740234375\n0 init 392.547 magi yuletide cheer holiday gifts decorations ornament stocking holly jingle sleigh carol naughty nice polar beard workshop nutcracker grinch chimney\n17 GS 3 386.46112 magi yuletide cheer grinch holiday gifts decorations ornament stocking holly jingle sleigh carol naughty nice polar beard workshop nutcracker chimney\n19 GS 3 380.46957 magi yuletide cheer grinch holiday gifts decorations ornament stocking holly jingle sleigh carol naughty nice polar beard workshop chimney nutcracker\n39 GS 5 378.98627 magi yuletide cheer grinch carol holiday gifts decorations ornament stocking holly jingle sleigh polar beard workshop chimney naughty nice nutcracker\n43 GS 3 371.65604 magi yuletide cheer grinch carol holiday gifts decorations ornament stocking holly jingle sleigh workshop chimney naughty nice nutcracker polar beard\n45 GS 3 349.13852 magi yuletide cheer grinch carol holiday gifts decorations holly jingle sleigh workshop chimney naughty nice nutcracker polar beard ornament stocking\n49 GS 4 346.4215 magi yuletide cheer grinch carol holiday gifts decorations holly jingle sleigh naughty nice nutcracker polar beard ornament stocking chimney workshop\n57 GS 3 331.85147 magi yuletide cheer grinch carol holiday gifts decorations holly jingle naughty nice nutcracker polar beard ornament stocking chimney sleigh workshop\n71 GS 3 330.5577 magi yuletide cheer grinch carol holiday gifts decorations holly jingle naughty nice nutcracker ornament polar beard stocking chimney sleigh workshop\n73 GS 3 327.9853 magi yuletide cheer grinch carol holiday gifts decorations holly jingle naughty nice ornament nutcracker polar beard stocking chimney sleigh workshop\n103 GS 4 326.7066 magi yuletide cheer grinch carol holiday holly jingle naughty nice ornament nutcracker polar beard stocking chimney sleigh workshop decorations gifts\n110 LS 4 324.16415 magi yuletide cheer grinch carol holiday holly jingle naughty nice polar beard nutcracker ornament stocking chimney sleigh workshop decorations gifts\n113 GS 4 322.90033 magi yuletide cheer grinch carol holiday holly jingle naughty nice polar workshop chimney sleigh beard nutcracker ornament stocking decorations gifts\n135 GS 3 320.3875 magi yuletide cheer grinch carol holiday holly jingle naughty nice polar workshop chimney stocking sleigh beard nutcracker ornament decorations gifts\n157 GS 3 308.11368 magi yuletide cheer grinch carol holiday holly jingle naughty nice polar workshop chimney sleigh beard nutcracker ornament decorations gifts stocking\n",
     "output_type": "stream"
    }
   ],
   "execution_count": 7
  },
  {
   "cell_type": "code",
   "source": [
    "shuffle(df.loc[3, 'text'])"
   ],
   "metadata": {
    "trusted": true,
    "execution": {
     "iopub.status.busy": "2024-12-22T16:08:19.421719Z",
     "iopub.execute_input": "2024-12-22T16:08:19.422545Z",
     "iopub.status.idle": "2024-12-22T16:20:40.196492Z",
     "shell.execute_reply.started": "2024-12-22T16:08:19.422513Z",
     "shell.execute_reply": "2024-12-22T16:20:40.195767Z"
    }
   },
   "outputs": [
    {
     "name": "stdout",
     "text": "Original order NLL =  308.1136779785156\n0 init 309.31958 ornament yuletide holiday the of decorations and gifts unwrap is stocking holly jingle relax eat carol sing cheer cheer grinch naughty nice visit sleigh polar beard chimney workshop nutcracker magi\n6 LS 4 305.7159 ornament yuletide holiday the of decorations and gifts unwrap is stocking holly jingle relax sing carol eat cheer cheer grinch naughty nice visit sleigh polar beard chimney workshop nutcracker magi\n23 GS 3 302.1542 ornament yuletide holiday the of decorations and gifts unwrap is holly jingle relax sing carol eat cheer cheer grinch naughty nice visit sleigh polar beard chimney workshop nutcracker stocking magi\n27 GS 3 300.9762 ornament yuletide holiday the of decorations and gifts unwrap is holly jingle relax sing carol eat cheer cheer grinch naughty nice chimney visit sleigh polar beard workshop nutcracker stocking magi\n28 LS 4 296.31003 ornament yuletide holiday the of decorations and gifts unwrap is carol sing holly jingle relax eat cheer cheer grinch naughty nice chimney visit sleigh polar beard workshop nutcracker stocking magi\n29 GS 3 283.84763 ornament yuletide holiday is the of decorations and gifts unwrap carol sing holly jingle relax eat cheer cheer grinch naughty nice chimney visit sleigh polar beard workshop nutcracker stocking magi\n35 GS 3 280.54068 ornament yuletide holiday is the of decorations and gifts unwrap carol sing holly jingle relax eat cheer cheer grinch naughty nice chimney stocking visit sleigh polar beard workshop nutcracker magi\n37 GS 3 276.1913 ornament yuletide holiday is the of decorations and gifts unwrap carol sing holly jingle relax eat cheer cheer grinch naughty nice visit sleigh polar beard workshop chimney stocking nutcracker magi\n67 GS 3 270.84927 ornament yuletide holiday the of decorations and gifts is unwrap carol sing holly jingle relax eat cheer cheer grinch naughty nice visit sleigh polar beard workshop chimney stocking nutcracker magi\n131 GS 3 267.6938 ornament yuletide holiday the of decorations and gifts is unwrap magi carol sing holly jingle relax eat cheer cheer grinch naughty nice visit sleigh polar beard workshop chimney stocking nutcracker\n",
     "output_type": "stream"
    }
   ],
   "execution_count": 7
  },
  {
   "cell_type": "code",
   "source": [
    "shuffle(df.loc[4, 'text'])"
   ],
   "metadata": {
    "trusted": true,
    "execution": {
     "iopub.status.busy": "2024-12-22T16:21:01.282597Z",
     "iopub.execute_input": "2024-12-22T16:21:01.283444Z",
     "iopub.status.idle": "2024-12-22T16:41:54.429564Z",
     "shell.execute_reply.started": "2024-12-22T16:21:01.283409Z",
     "shell.execute_reply": "2024-12-22T16:41:54.428554Z"
    }
   },
   "outputs": [
    {
     "name": "stdout",
     "text": "Original order NLL =  202.8567352294922\n0 init 202.85674 eggnog fruitcake chocolate poinsettia peppermint candy wreath snowglobe star angel candle cookie milk and the season of peace joy hope wish dream believe in wonder merry hohoho to you as we have it with wrapping paper bow greeting card toy doll game night puzzle fireplace that not from kaggle workshop\n3 GS 4 194.32486 eggnog fruitcake chocolate poinsettia peppermint candy wreath snowglobe star angel candle cookie milk and the season of peace joy hope wish dream believe in wonder merry that not to you as we have it with wrapping paper bow greeting card toy doll game night puzzle fireplace hohoho from kaggle workshop\n5 GS 4 186.15181 eggnog the season of peace joy hope wish dream believe in wonder merry that not to you as we have it with wrapping paper bow greeting card star angel candle cookie milk and fruitcake chocolate poinsettia peppermint candy wreath snowglobe toy doll game night puzzle fireplace hohoho from kaggle workshop\n9 GS 4 183.2658 eggnog the season of peace joy hope wish dream believe in wonder merry that not to you as we have it with wrapping paper bow greeting card star angel candle cookie fruitcake and milk chocolate poinsettia peppermint candy wreath snowglobe toy doll game night puzzle fireplace hohoho from kaggle workshop\n10 LS 4 181.13069 eggnog the season of peace joy hope wish dream believe in wonder merry that not to you as we have it with wrapping paper bow greeting card star angel candle cookie chocolate and milk fruitcake poinsettia peppermint candy wreath snowglobe toy doll game night puzzle fireplace hohoho from kaggle workshop\n19 GS 3 173.51256 eggnog the season of peace and joy hope wish dream believe in wonder merry that not to you as we have it with wrapping paper bow greeting card star angel candle cookie chocolate milk fruitcake poinsettia peppermint candy wreath snowglobe toy doll game night puzzle fireplace hohoho from kaggle workshop\n23 GS 4 161.73149 eggnog the season of peace and joy hope wish dream believe in wonder merry that not to you as we have it with wrapping paper bow greeting card star angel toy doll game night puzzle cookie chocolate milk fruitcake poinsettia peppermint candy wreath snowglobe candle fireplace hohoho from kaggle workshop\n25 GS 3 158.60332 eggnog the season of peace and joy hope wish dream believe in wonder merry that not to you as we have it with wrapping paper bow greeting card star angel snowglobe candle fireplace toy doll game night puzzle cookie chocolate milk fruitcake poinsettia peppermint candy wreath hohoho from kaggle workshop\n28 LS 3 155.53566 eggnog the season of peace and joy hope wish dream believe in wonder merry that not to you as we have it with wrapping paper bow greeting card star angel snowglobe candle fireplace toy doll game night puzzle cookie milk chocolate fruitcake poinsettia peppermint candy wreath hohoho from kaggle workshop\n43 GS 3 150.1626 eggnog the season of peace and joy hope wish dream believe in wonder merry that not to you as we have it with wrapping paper bow greeting card star angel snowglobe candle fireplace toy doll game night puzzle cookie milk chocolate peppermint candy wreath fruitcake poinsettia hohoho from kaggle workshop\n55 GS 3 148.41316 eggnog the season of peace and joy hope wish dream believe in wonder merry that not to you as we have it with wrapping paper bow greeting card wreath star angel snowglobe candle fireplace toy doll game night puzzle cookie milk chocolate peppermint candy fruitcake poinsettia hohoho from kaggle workshop\n63 GS 3 146.11221 eggnog the season of peace and joy hope wish dream believe in wonder merry that not to you from as we have it with wrapping paper bow greeting card wreath star angel snowglobe candle fireplace toy doll game night puzzle cookie milk chocolate peppermint candy fruitcake poinsettia hohoho kaggle workshop\n73 GS 4 137.25974 eggnog the season of peace and joy hope wish dream believe in wonder merry that not to you from as we have it with wrapping paper bow greeting card toy doll game night puzzle cookie milk chocolate peppermint candy fruitcake poinsettia star angel snowglobe candle fireplace wreath hohoho kaggle workshop\n77 GS 3 132.51804 eggnog the season of peace and joy hope wish dream believe in wonder merry that not as we have it to you from with wrapping paper bow greeting card toy doll game night puzzle cookie milk chocolate peppermint candy fruitcake poinsettia star angel snowglobe candle fireplace wreath hohoho kaggle workshop\n141 GS 3 129.9549 eggnog the season of peace and joy hope wish dream believe in wonder merry that not as we have it to you from with wrapping paper bow greeting card toy doll game night puzzle cookie milk chocolate peppermint candy fruitcake wreath poinsettia star angel snowglobe candle fireplace hohoho kaggle workshop\n168 LS 3 126.44959 eggnog the season of peace and joy hope wish dream believe in wonder merry that not as we have it to you from with wrapping paper bow greeting card game night puzzle toy doll cookie milk chocolate peppermint candy fruitcake wreath poinsettia star angel snowglobe candle fireplace hohoho kaggle workshop\n",
     "output_type": "stream"
    }
   ],
   "execution_count": 9
  },
  {
   "cell_type": "code",
   "source": [
    "shuffle(df.loc[5, 'text'])"
   ],
   "metadata": {
    "trusted": true,
    "execution": {
     "iopub.status.busy": "2024-12-22T16:47:06.807696Z",
     "iopub.execute_input": "2024-12-22T16:47:06.808470Z",
     "iopub.status.idle": "2024-12-22T17:58:03.593936Z",
     "shell.execute_reply.started": "2024-12-22T16:47:06.808436Z",
     "shell.execute_reply": "2024-12-22T17:58:03.593133Z"
    }
   },
   "outputs": [
    {
     "name": "stdout",
     "text": "Original order NLL =  83.25223541259766\n0 init 83.252235 poinsettia yuletide eggnog fruitcake mistletoe nutcracker scrooge grinch snowglobe holly wreath gingerbread cookie peppermint candy sleigh reindeer elf stocking chimney chimney ornament fireplace fireplace ornament angel star candle carol holiday season joy peace cheer merry jingle wish dream believe hope family gifts wrapping paper bow card greeting hohoho laugh sing eat sleep relax unwrap give to and from the and the and the of in is you that it we with as have not of nice naughty night night visit toy doll game puzzle advent chocolate milk cheer jump bake walk drive decorations beard polar workshop workshop wonder magi kaggle\n3 GS 3 82.60437 poinsettia yuletide eggnog fruitcake mistletoe nutcracker scrooge grinch snowglobe holly wreath gingerbread cookie peppermint candy sleigh reindeer elf stocking chimney chimney ornament fireplace fireplace ornament angel star candle carol holiday season joy peace cheer merry jingle wish dream believe hope family gifts wrapping paper bow card greeting hohoho laugh cheer jump sing eat sleep relax unwrap give to and from the and the and the of in is you that it we with as have not of nice naughty night night visit toy doll game puzzle advent chocolate milk bake walk drive decorations beard polar workshop workshop wonder magi kaggle\n9 GS 3 81.3237 poinsettia yuletide eggnog fruitcake mistletoe nutcracker scrooge grinch snowglobe holly wreath gingerbread cookie peppermint candy sleigh reindeer elf stocking chimney chimney ornament fireplace fireplace ornament angel star candle carol holiday season joy peace cheer merry jingle hohoho laugh cheer jump sing eat sleep relax unwrap give to and from the and the and the of in is you that it we with as have not of nice naughty night night wish dream believe hope family gifts wrapping paper bow card greeting visit toy doll game puzzle advent chocolate milk bake walk drive decorations beard polar workshop workshop wonder magi kaggle\n17 GS 3 81.00665 poinsettia yuletide eggnog fruitcake mistletoe nutcracker scrooge grinch snowglobe holly wreath gingerbread cookie peppermint candy sleigh reindeer elf stocking chimney chimney ornament fireplace fireplace ornament angel star candle carol holiday season joy peace cheer merry jingle hohoho laugh cheer jump sing eat sleep relax unwrap give family gifts wrapping paper bow card greeting visit toy doll game puzzle advent chocolate milk bake walk drive decorations beard polar workshop workshop to and from the and the and the of in is you that it we with as have not of nice naughty night night wish dream believe hope wonder magi kaggle\n25 GS 3 80.0629 poinsettia yuletide eggnog fruitcake mistletoe nutcracker scrooge grinch snowglobe holly wreath gingerbread cookie peppermint candy sleigh reindeer elf stocking chimney chimney ornament fireplace fireplace ornament angel star candle carol holiday season joy peace cheer merry jingle family gifts wrapping paper bow card greeting visit toy doll game puzzle advent chocolate milk bake walk drive decorations beard polar workshop workshop hohoho laugh cheer jump sing eat sleep relax unwrap give to and from the and the and the of in is you that it we with as have not of nice naughty night night wish dream believe hope wonder magi kaggle\n27 GS 3 77.59962 poinsettia yuletide eggnog fruitcake mistletoe nutcracker scrooge grinch snowglobe holly wreath gingerbread cookie peppermint candy sleigh reindeer elf stocking chimney chimney ornament fireplace fireplace ornament hohoho laugh cheer jump sing eat sleep relax unwrap give to and from the and the and the of in is you that it we with as have not of nice naughty night night wish dream believe hope wonder magi angel star candle carol holiday season joy peace cheer merry jingle family gifts wrapping paper bow card greeting visit toy doll game puzzle advent chocolate milk bake walk drive decorations beard polar workshop workshop kaggle\n31 GS 3 76.09871 poinsettia yuletide eggnog fruitcake mistletoe nutcracker scrooge grinch snowglobe holly wreath gingerbread cookie peppermint candy sleigh reindeer elf stocking chimney chimney ornament fireplace fireplace ornament hohoho laugh cheer jump sing eat sleep relax unwrap give to and from the and the and the of in is you that it we with as have not of nice naughty night night wish dream believe hope wonder magi angel star candle carol advent chocolate milk bake walk drive decorations holiday season joy peace cheer merry jingle family gifts wrapping paper bow card greeting visit toy doll game puzzle beard polar workshop workshop kaggle\n37 GS 3 72.898094 poinsettia yuletide eggnog fruitcake mistletoe nutcracker scrooge grinch snowglobe holly wreath gingerbread cookie peppermint candy sleigh reindeer elf stocking chimney chimney ornament fireplace fireplace ornament hohoho laugh cheer jump sing eat sleep relax unwrap give to and from the and the and the of in is you that it we with as have not of family gifts wrapping paper bow card greeting visit toy doll game puzzle beard polar workshop workshop nice naughty night night wish dream believe hope wonder magi angel star candle carol advent chocolate milk bake walk drive decorations holiday season joy peace cheer merry jingle kaggle\n38 LS 3 72.61389 poinsettia yuletide eggnog fruitcake mistletoe nutcracker scrooge grinch snowglobe holly wreath gingerbread cookie peppermint candy sleigh reindeer elf stocking chimney chimney ornament fireplace fireplace ornament hohoho laugh cheer jump sing eat sleep relax unwrap give to and from the and the and the of in is you that it we with as have not of gifts wrapping paper bow card greeting family visit toy doll game puzzle beard polar workshop workshop nice naughty night night wish dream believe hope wonder magi angel star candle carol advent chocolate milk bake walk drive decorations holiday season joy peace cheer merry jingle kaggle\n57 GS 3 71.767914 poinsettia yuletide eggnog fruitcake mistletoe nutcracker scrooge grinch snowglobe holly wreath gingerbread cookie peppermint candy sleigh reindeer elf stocking chimney chimney ornament fireplace fireplace ornament hohoho laugh cheer jump sing eat sleep relax unwrap give to and from the and the and the of in is you that it we with as have not of gifts wrapping paper bow card greeting family toy doll game puzzle beard polar workshop workshop nice naughty night night wish dream believe hope wonder magi angel star candle carol advent chocolate milk bake walk drive visit decorations holiday season joy peace cheer merry jingle kaggle\n61 GS 3 70.65526 poinsettia yuletide eggnog chocolate milk fruitcake mistletoe nutcracker scrooge grinch snowglobe holly wreath gingerbread cookie peppermint candy sleigh reindeer elf stocking chimney chimney ornament fireplace fireplace ornament hohoho laugh cheer jump sing eat sleep relax unwrap give to and from the and the and the of in is you that it we with as have not of gifts wrapping paper bow card greeting family toy doll game puzzle beard polar workshop workshop nice naughty night night wish dream believe hope wonder magi angel star candle carol advent bake walk drive visit decorations holiday season joy peace cheer merry jingle kaggle\n79 GS 3 70.37979 poinsettia yuletide eggnog chocolate milk fruitcake mistletoe nutcracker stocking chimney chimney ornament fireplace fireplace ornament hohoho laugh cheer jump sing eat sleep relax unwrap give to and from the and the and the of in is you that it we with as have not of gifts wrapping paper bow card greeting family toy doll game puzzle beard scrooge grinch snowglobe holly wreath gingerbread cookie peppermint candy sleigh reindeer elf polar workshop workshop nice naughty night night wish dream believe hope wonder magi angel star candle carol advent bake walk drive visit decorations holiday season joy peace cheer merry jingle kaggle\n91 GS 3 67.15687 poinsettia yuletide eggnog chocolate milk fruitcake mistletoe holly wreath gingerbread cookie peppermint candy nutcracker stocking chimney chimney ornament fireplace fireplace ornament hohoho laugh cheer jump sing eat sleep relax unwrap give to and from the and the and the of in is you that it we with as have not of gifts wrapping paper bow card greeting family toy doll game puzzle beard scrooge grinch snowglobe sleigh reindeer elf polar workshop workshop nice naughty night night wish dream believe hope wonder magi angel star candle carol advent bake walk drive visit decorations holiday season joy peace cheer merry jingle kaggle\n94 LS 3 66.89505 poinsettia yuletide eggnog chocolate milk fruitcake mistletoe holly wreath peppermint candy gingerbread cookie nutcracker stocking chimney chimney ornament fireplace fireplace ornament hohoho laugh cheer jump sing eat sleep relax unwrap give to and from the and the and the of in is you that it we with as have not of gifts wrapping paper bow card greeting family toy doll game puzzle beard scrooge grinch snowglobe sleigh reindeer elf polar workshop workshop nice naughty night night wish dream believe hope wonder magi angel star candle carol advent bake walk drive visit decorations holiday season joy peace cheer merry jingle kaggle\n96 LS 3 66.1157 poinsettia yuletide eggnog chocolate milk fruitcake mistletoe holly wreath peppermint candy gingerbread cookie nutcracker stocking chimney chimney ornament fireplace fireplace ornament hohoho laugh cheer jump sing eat sleep relax unwrap give to and from the and the and the of in is you that it we with as have not of gifts wrapping paper bow card greeting family toy doll game puzzle beard scrooge grinch snowglobe sleigh reindeer elf polar workshop workshop nice naughty night night wish dream believe hope wonder magi angel star advent candle carol bake walk drive visit decorations holiday season joy peace cheer merry jingle kaggle\n112 LS 3 65.60118 poinsettia yuletide eggnog chocolate milk fruitcake mistletoe holly wreath peppermint candy gingerbread cookie nutcracker stocking chimney chimney ornament fireplace fireplace ornament hohoho laugh cheer jump sing eat sleep relax unwrap give to and from the and the and the of in is you that it we with as have not of gifts wrapping paper bow card greeting family toy doll game puzzle beard scrooge grinch snowglobe sleigh reindeer elf polar workshop workshop nice naughty night night wish dream hope believe wonder magi angel star advent candle carol bake walk drive visit decorations holiday season joy peace cheer merry jingle kaggle\n113 GS 3 65.34543 poinsettia yuletide eggnog chocolate milk fruitcake mistletoe holly wreath peppermint candy gingerbread cookie nutcracker stocking chimney chimney ornament fireplace fireplace ornament hohoho laugh cheer jump sing walk drive visit eat sleep relax unwrap give to and from the and the and the of in is you that it we with as have not of gifts wrapping paper bow card greeting family toy doll game puzzle beard scrooge grinch snowglobe sleigh reindeer elf polar workshop workshop nice naughty night night wish dream hope believe wonder magi angel star advent candle carol bake decorations holiday season joy peace cheer merry jingle kaggle\n119 GS 3 64.83691 poinsettia yuletide eggnog chocolate milk peppermint candy fruitcake mistletoe holly wreath gingerbread cookie nutcracker stocking chimney chimney ornament fireplace fireplace ornament hohoho laugh cheer jump sing walk drive visit eat sleep relax unwrap give to and from the and the and the of in is you that it we with as have not of gifts wrapping paper bow card greeting family toy doll game puzzle beard scrooge grinch snowglobe sleigh reindeer elf polar workshop workshop nice naughty night night wish dream hope believe wonder magi angel star advent candle carol bake decorations holiday season joy peace cheer merry jingle kaggle\n153 GS 3 63.582844 poinsettia yuletide eggnog chocolate milk peppermint candy fruitcake mistletoe holly wreath gingerbread cookie nutcracker stocking chimney chimney ornament fireplace fireplace ornament hohoho laugh cheer jump sing walk drive visit eat sleep relax unwrap give to and from the and the and the of in is you that it we with as have not of gifts wrapping paper bow card greeting family toy doll game puzzle scrooge grinch snowglobe sleigh reindeer elf polar beard workshop workshop nice naughty night night wish dream hope believe wonder magi angel star advent candle carol bake decorations holiday season joy peace cheer merry jingle kaggle\n160 LS 5 63.088043 poinsettia yuletide eggnog chocolate milk peppermint candy fruitcake mistletoe holly wreath gingerbread cookie nutcracker stocking ornament ornament fireplace chimney chimney fireplace hohoho laugh cheer jump sing walk drive visit eat sleep relax unwrap give to and from the and the and the of in is you that it we with as have not of gifts wrapping paper bow card greeting family toy doll game puzzle scrooge grinch snowglobe sleigh reindeer elf polar beard workshop workshop nice naughty night night wish dream hope believe wonder magi angel star advent candle carol bake decorations holiday season joy peace cheer merry jingle kaggle\n181 GS 4 62.842087 poinsettia yuletide eggnog chocolate milk peppermint candy fruitcake mistletoe holly wreath gingerbread cookie nutcracker stocking ornament ornament fireplace chimney chimney fireplace hohoho laugh cheer jump sing walk drive visit eat sleep relax unwrap give to and from the and the and the of in is you that it we with as have not of gifts family toy doll game puzzle card greeting wrapping paper bow scrooge grinch snowglobe sleigh reindeer elf polar beard workshop workshop nice naughty night night wish dream hope believe wonder magi angel star advent candle carol bake decorations holiday season joy peace cheer merry jingle kaggle\n249 GS 3 62.597084 poinsettia yuletide eggnog chocolate milk peppermint candy fruitcake mistletoe holly wreath gingerbread cookie nutcracker stocking ornament ornament fireplace chimney chimney fireplace hohoho laugh cheer jump sing walk drive visit eat sleep relax unwrap give to and from the and the and the of of in is you that it we with as have not gifts family toy doll game puzzle card greeting wrapping paper bow scrooge grinch snowglobe sleigh reindeer elf polar beard workshop workshop nice naughty night night wish dream hope believe wonder magi angel star advent candle carol bake decorations holiday season joy peace cheer merry jingle kaggle\n275 GS 3 62.10995 poinsettia yuletide eggnog chocolate milk peppermint candy fruitcake mistletoe holly wreath gingerbread cookie nutcracker stocking ornament ornament fireplace chimney chimney fireplace hohoho laugh cheer jump eat sleep relax unwrap give to and from the and the and the of of in is you that it we with as have not gifts family toy doll game puzzle card greeting wrapping paper bow scrooge grinch snowglobe sleigh reindeer elf polar beard workshop workshop nice naughty night night wish dream hope believe wonder magi angel star advent candle carol sing walk drive visit bake decorations holiday season joy peace cheer merry jingle kaggle\n321 GS 3 61.62661 poinsettia yuletide eggnog chocolate milk peppermint candy fruitcake mistletoe holly wreath gingerbread cookie nutcracker stocking ornament ornament chimney chimney fireplace fireplace hohoho laugh cheer jump eat sleep relax unwrap give to and from the and the and the of of in is you that it we with as have not gifts family toy doll game puzzle card greeting wrapping paper bow scrooge grinch snowglobe sleigh reindeer elf polar beard workshop workshop nice naughty night night wish dream hope believe wonder magi angel star advent candle carol sing walk drive visit bake decorations holiday season joy peace cheer merry jingle kaggle\n337 GS 3 59.964336 poinsettia yuletide eggnog chocolate milk peppermint candy fruitcake mistletoe holly wreath gingerbread cookie nutcracker stocking ornament ornament chimney chimney fireplace fireplace hohoho laugh cheer jump sing walk drive visit bake eat sleep relax unwrap give to and from the and the and the of of in is you that it we with as have not gifts family toy doll game puzzle card greeting wrapping paper bow scrooge grinch snowglobe sleigh reindeer elf polar beard workshop workshop nice naughty night night wish dream hope believe wonder magi angel star advent candle carol decorations holiday season joy peace cheer merry jingle kaggle\n359 GS 3 59.73056 poinsettia yuletide eggnog chocolate milk peppermint candy fruitcake mistletoe holly wreath gingerbread cookie ornament ornament nutcracker stocking chimney chimney fireplace fireplace hohoho laugh cheer jump sing walk drive visit bake eat sleep relax unwrap give to and from the and the and the of of in is you that it we with as have not gifts family toy doll game puzzle card greeting wrapping paper bow scrooge grinch snowglobe sleigh reindeer elf polar beard workshop workshop nice naughty night night wish dream hope believe wonder magi angel star advent candle carol decorations holiday season joy peace cheer merry jingle kaggle\n364 LS 3 59.26573 poinsettia yuletide eggnog chocolate milk peppermint candy fruitcake mistletoe holly wreath gingerbread cookie ornament ornament nutcracker fireplace fireplace stocking chimney chimney hohoho laugh cheer jump sing walk drive visit bake eat sleep relax unwrap give to and from the and the and the of of in is you that it we with as have not gifts family toy doll game puzzle card greeting wrapping paper bow scrooge grinch snowglobe sleigh reindeer elf polar beard workshop workshop nice naughty night night wish dream hope believe wonder magi angel star advent candle carol decorations holiday season joy peace cheer merry jingle kaggle\n431 GS 3 58.804523 poinsettia yuletide eggnog milk chocolate peppermint candy fruitcake mistletoe holly wreath gingerbread cookie ornament ornament nutcracker fireplace fireplace stocking chimney chimney hohoho laugh cheer jump sing walk drive visit bake eat sleep relax unwrap give to and from the and the and the of of in is you that it we with as have not gifts family toy doll game puzzle card greeting wrapping paper bow scrooge grinch snowglobe sleigh reindeer elf polar beard workshop workshop nice naughty night night wish dream hope believe wonder magi angel star advent candle carol decorations holiday season joy peace cheer merry jingle kaggle\n463 GS 3 58.575264 poinsettia yuletide eggnog milk chocolate peppermint candy fruitcake mistletoe holly wreath gingerbread cookie ornament ornament nutcracker fireplace fireplace stocking chimney chimney hohoho laugh cheer jump sing walk drive visit bake eat sleep relax unwrap give to and from the and the and the of of in is you that it we with as have not gifts family toy doll game puzzle card greeting wrapping paper bow scrooge grinch snowglobe sleigh reindeer polar beard elf workshop workshop nice naughty night night wish dream hope believe wonder magi angel star advent candle carol decorations holiday season joy peace cheer merry jingle kaggle\n573 GS 3 58.3469 poinsettia yuletide eggnog milk chocolate peppermint candy fruitcake mistletoe holly wreath gingerbread cookie ornament ornament nutcracker chimney chimney fireplace fireplace stocking hohoho laugh cheer jump sing walk drive visit bake eat sleep relax unwrap give to and from the and the and the of of in is you that it we with as have not gifts family toy doll game puzzle card greeting wrapping paper bow scrooge grinch snowglobe sleigh reindeer polar beard elf workshop workshop nice naughty night night wish dream hope believe wonder magi angel star advent candle carol decorations holiday season joy peace cheer merry jingle kaggle\n586 LS 3 57.89284 poinsettia yuletide eggnog milk chocolate peppermint candy fruitcake mistletoe holly wreath gingerbread cookie ornament ornament nutcracker chimney chimney fireplace fireplace stocking hohoho laugh cheer jump sing walk drive visit bake eat sleep relax unwrap give to and from the and the and the of of in as is you that it we with have not gifts family toy doll game puzzle card greeting wrapping paper bow scrooge grinch snowglobe sleigh reindeer polar beard elf workshop workshop nice naughty night night wish dream hope believe wonder magi angel star advent candle carol decorations holiday season joy peace cheer merry jingle kaggle\n709 GS 3 57.667137 poinsettia yuletide eggnog milk chocolate peppermint candy fruitcake mistletoe holly wreath gingerbread cookie ornament ornament nutcracker chimney chimney fireplace fireplace stocking hohoho laugh cheer jump sing walk drive visit bake eat sleep relax unwrap give to and from the and the and the of of in as is you that it we with have not gifts family decorations holiday season toy doll game puzzle card greeting wrapping paper bow scrooge grinch snowglobe sleigh reindeer polar beard elf workshop workshop nice naughty night night wish dream hope believe wonder magi angel star advent candle carol joy peace cheer merry jingle kaggle\n725 GS 3 57.218372 poinsettia yuletide eggnog milk chocolate peppermint candy fruitcake mistletoe holly wreath gingerbread cookie ornament ornament nutcracker chimney chimney fireplace fireplace stocking hohoho laugh cheer jump sing walk drive visit bake eat sleep relax unwrap give to and from the and the and the of of in as is you that it we with have not gifts family decorations holiday season card greeting wrapping paper bow toy doll game puzzle scrooge grinch snowglobe sleigh reindeer polar beard elf workshop workshop nice naughty night night wish dream hope believe wonder magi angel star advent candle carol joy peace cheer merry jingle kaggle\n745 GS 3 56.33128 poinsettia yuletide eggnog milk chocolate peppermint candy fruitcake mistletoe holly wreath gingerbread cookie chimney chimney fireplace fireplace stocking hohoho laugh cheer jump sing walk drive visit bake eat sleep relax unwrap give to and from the and the and the of of in as is you that it we with have not gifts family decorations holiday season card greeting wrapping paper bow toy doll game puzzle ornament ornament nutcracker scrooge grinch snowglobe sleigh reindeer polar beard elf workshop workshop nice naughty night night wish dream hope believe wonder magi angel star advent candle carol joy peace cheer merry jingle kaggle\n761 GS 3 55.457947 poinsettia yuletide eggnog milk chocolate peppermint candy fruitcake mistletoe holly wreath gingerbread cookie chimney chimney fireplace fireplace stocking hohoho laugh cheer jump sing walk drive visit bake eat sleep relax unwrap give to and from the and the and the of of in as is you that it we with have not gifts family holiday season decorations card greeting wrapping paper bow toy doll game puzzle ornament ornament nutcracker scrooge grinch snowglobe sleigh reindeer polar beard elf workshop workshop nice naughty night night wish dream hope believe wonder magi angel star advent candle carol joy peace cheer merry jingle kaggle\n793 GS 3 54.81184 poinsettia yuletide eggnog milk chocolate peppermint candy fruitcake mistletoe holly wreath gingerbread cookie chimney chimney fireplace fireplace stocking hohoho laugh cheer jump sing walk drive visit bake eat sleep relax unwrap give to and from the and the and the of of in as is you that it we with have not family holiday season decorations gifts card greeting wrapping paper bow toy doll game puzzle ornament ornament nutcracker scrooge grinch snowglobe sleigh reindeer polar beard elf workshop workshop nice naughty night night wish dream hope believe wonder magi angel star advent candle carol joy peace cheer merry jingle kaggle\n846 LS 3 53.0218 poinsettia yuletide eggnog milk chocolate peppermint candy fruitcake mistletoe holly wreath gingerbread cookie chimney chimney fireplace fireplace stocking hohoho laugh cheer jump sing walk drive visit bake eat sleep relax unwrap give to and from the and the and the of of in as is you that it we with have not family holiday season decorations gifts card greeting wrapping paper bow toy doll game puzzle ornament ornament nutcracker scrooge grinch snowglobe sleigh reindeer polar beard elf workshop workshop naughty nice night night wish dream hope believe wonder magi angel star advent candle carol joy peace cheer merry jingle kaggle\n862 LS 3 52.815086 poinsettia yuletide eggnog milk chocolate peppermint candy fruitcake mistletoe holly wreath gingerbread cookie chimney chimney fireplace fireplace stocking hohoho laugh cheer jump sing walk drive visit eat bake sleep relax unwrap give to and from the and the and the of of in as is you that it we with have not family holiday season decorations gifts card greeting wrapping paper bow toy doll game puzzle ornament ornament nutcracker scrooge grinch snowglobe sleigh reindeer polar beard elf workshop workshop naughty nice night night wish dream hope believe wonder magi angel star advent candle carol joy peace cheer merry jingle kaggle\n893 GS 3 51.39049 poinsettia yuletide eggnog milk chocolate peppermint candy fruitcake mistletoe holly wreath gingerbread cookie chimney chimney fireplace fireplace stocking hohoho laugh cheer jump sing walk drive visit eat bake sleep relax unwrap give to and from the and the and the of of as in is you that it we with have not family holiday season decorations gifts card greeting wrapping paper bow toy doll game puzzle ornament ornament nutcracker scrooge grinch snowglobe sleigh reindeer polar beard elf workshop workshop naughty nice night night wish dream hope believe wonder magi angel star advent candle carol joy peace cheer merry jingle kaggle\n939 GS 3 50.990566 poinsettia yuletide eggnog milk chocolate peppermint candy fruitcake mistletoe holly wreath gingerbread cookie chimney chimney fireplace fireplace stocking hohoho laugh cheer jump sing walk drive visit eat bake sleep relax unwrap give to and from the and the and the of of as in is you that it we with have not family holiday season decorations gifts card greeting wrapping paper bow toy doll game puzzle ornament ornament nutcracker scrooge grinch snowglobe sleigh reindeer polar beard elf workshop workshop naughty nice night night wish dream hope believe wonder magi star angel advent candle carol joy peace cheer merry jingle kaggle\n953 GS 3 50.79177 poinsettia yuletide eggnog milk chocolate peppermint candy fruitcake mistletoe holly wreath gingerbread cookie chimney chimney fireplace fireplace stocking hohoho laugh cheer jump sing bake walk drive visit eat sleep relax unwrap give to and from the and the and the of of as in is you that it we with have not family holiday season decorations gifts card greeting wrapping paper bow toy doll game puzzle ornament ornament nutcracker scrooge grinch snowglobe sleigh reindeer polar beard elf workshop workshop naughty nice night night wish dream hope believe wonder magi star angel advent candle carol joy peace cheer merry jingle kaggle\n",
     "output_type": "stream"
    }
   ],
   "execution_count": 5
  },
  {
   "cell_type": "code",
   "source": [
    "# T.cuda.empty_cache()"
   ],
   "metadata": {
    "trusted": true,
    "execution": {
     "iopub.status.busy": "2024-12-22T16:42:21.239571Z",
     "iopub.execute_input": "2024-12-22T16:42:21.239929Z",
     "iopub.status.idle": "2024-12-22T16:42:21.280164Z",
     "shell.execute_reply.started": "2024-12-22T16:42:21.239896Z",
     "shell.execute_reply": "2024-12-22T16:42:21.279245Z"
    }
   },
   "outputs": [],
   "execution_count": 10
  },
  {
   "cell_type": "code",
   "source": [
    "df.loc[0, 'text'] = 'reindeer mistletoe elf scrooge gingerbread chimney fireplace ornament family advent'\n",
    "df.loc[1, 'text'] = 'reindeer mistletoe elf and the scrooge gingerbread chimney fireplace ornament advent family night sleep walk drive laugh jump give bake'\n",
    "df.loc[2, 'text'] = 'magi yuletide cheer grinch carol holiday holly jingle naughty nice polar workshop chimney sleigh beard nutcracker ornament decorations gifts stocking'\n",
    "df.loc[3, 'text'] = 'ornament yuletide holiday the of decorations and gifts is unwrap magi carol sing holly jingle relax eat cheer cheer grinch naughty nice visit sleigh polar beard workshop chimney stocking nutcracker'\n",
    "df.loc[4, 'text'] = 'eggnog the season of peace and joy hope wish dream believe in wonder merry that not as we have it to you from with wrapping paper bow greeting card game night puzzle toy doll cookie milk chocolate peppermint candy fruitcake wreath poinsettia star angel snowglobe candle fireplace hohoho kaggle workshop'\n",
    "df.loc[5, 'text'] = 'poinsettia yuletide eggnog milk chocolate peppermint candy fruitcake mistletoe holly wreath gingerbread cookie chimney chimney fireplace fireplace stocking hohoho laugh cheer jump sing bake walk drive visit eat sleep relax unwrap give to and from the and the and the of of as in is you that it we with have not family holiday season decorations gifts card greeting wrapping paper bow toy doll game puzzle ornament ornament nutcracker scrooge grinch snowglobe sleigh reindeer polar beard elf workshop workshop naughty nice night night wish dream hope believe wonder magi star angel advent candle carol joy peace cheer merry jingle kaggle'"
   ],
   "metadata": {
    "trusted": true,
    "execution": {
     "iopub.status.busy": "2024-12-22T17:58:25.348249Z",
     "iopub.execute_input": "2024-12-22T17:58:25.348599Z",
     "iopub.status.idle": "2024-12-22T17:58:25.355600Z",
     "shell.execute_reply.started": "2024-12-22T17:58:25.348566Z",
     "shell.execute_reply": "2024-12-22T17:58:25.354705Z"
    }
   },
   "outputs": [],
   "execution_count": 6
  },
  {
   "cell_type": "code",
   "source": [
    "from metric import PerplexityCalculator\n",
    "scorer = PerplexityCalculator('/kaggle/input/gemma-2/transformers/gemma-2-9b/2')"
   ],
   "metadata": {
    "trusted": true,
    "execution": {
     "iopub.status.busy": "2024-12-22T17:58:28.156014Z",
     "iopub.execute_input": "2024-12-22T17:58:28.156649Z",
     "iopub.status.idle": "2024-12-22T18:00:57.099617Z",
     "shell.execute_reply.started": "2024-12-22T17:58:28.156617Z",
     "shell.execute_reply": "2024-12-22T18:00:57.098897Z"
    }
   },
   "outputs": [
    {
     "output_type": "display_data",
     "data": {
      "text/plain": "Loading checkpoint shards:   0%|          | 0/8 [00:00<?, ?it/s]",
      "application/vnd.jupyter.widget-view+json": {
       "version_major": 2,
       "version_minor": 0,
       "model_id": "c9dc6a73c4824804aac3e4a62f5df714"
      }
     },
     "metadata": {}
    }
   ],
   "execution_count": 7
  },
  {
   "cell_type": "code",
   "source": [
    "df"
   ],
   "metadata": {
    "trusted": true,
    "execution": {
     "iopub.status.busy": "2024-12-22T18:00:57.100840Z",
     "iopub.execute_input": "2024-12-22T18:00:57.101141Z",
     "iopub.status.idle": "2024-12-22T18:00:57.116621Z",
     "shell.execute_reply.started": "2024-12-22T18:00:57.101114Z",
     "shell.execute_reply": "2024-12-22T18:00:57.115618Z"
    }
   },
   "outputs": [
    {
     "execution_count": 8,
     "output_type": "execute_result",
     "data": {
      "text/plain": "   id                                               text\n0   0  reindeer mistletoe elf scrooge gingerbread chi...\n1   1  reindeer mistletoe elf and the scrooge gingerb...\n2   2  magi yuletide cheer grinch carol holiday holly...\n3   3  ornament yuletide holiday the of decorations a...\n4   4  eggnog the season of peace and joy hope wish d...\n5   5  poinsettia yuletide eggnog milk chocolate pepp...",
      "text/html": "<div>\n<style scoped>\n    .dataframe tbody tr th:only-of-type {\n        vertical-align: middle;\n    }\n\n    .dataframe tbody tr th {\n        vertical-align: top;\n    }\n\n    .dataframe thead th {\n        text-align: right;\n    }\n</style>\n<table border=\"1\" class=\"dataframe\">\n  <thead>\n    <tr style=\"text-align: right;\">\n      <th></th>\n      <th>id</th>\n      <th>text</th>\n    </tr>\n  </thead>\n  <tbody>\n    <tr>\n      <th>0</th>\n      <td>0</td>\n      <td>reindeer mistletoe elf scrooge gingerbread chi...</td>\n    </tr>\n    <tr>\n      <th>1</th>\n      <td>1</td>\n      <td>reindeer mistletoe elf and the scrooge gingerb...</td>\n    </tr>\n    <tr>\n      <th>2</th>\n      <td>2</td>\n      <td>magi yuletide cheer grinch carol holiday holly...</td>\n    </tr>\n    <tr>\n      <th>3</th>\n      <td>3</td>\n      <td>ornament yuletide holiday the of decorations a...</td>\n    </tr>\n    <tr>\n      <th>4</th>\n      <td>4</td>\n      <td>eggnog the season of peace and joy hope wish d...</td>\n    </tr>\n    <tr>\n      <th>5</th>\n      <td>5</td>\n      <td>poinsettia yuletide eggnog milk chocolate pepp...</td>\n    </tr>\n  </tbody>\n</table>\n</div>"
     },
     "metadata": {}
    }
   ],
   "execution_count": 8
  },
  {
   "cell_type": "code",
   "source": [
    "scores = []\n",
    "\n",
    "for idx, row in tqdm(df.iterrows(), total=len(df)):\n",
    "    score = scorer.get_perplexity(row.text)\n",
    "\n",
    "    print(f\"Row {idx}: {row.text}\")\n",
    "    print(f\"Perplexity Score: {score:.2f}\\n\")\n",
    "\n",
    "    scores.append(score)\n",
    "\n",
    "mean_score = np.mean(scores)\n",
    "print(f\"Mean Perplexity Score: {mean_score:.2f}\")"
   ],
   "metadata": {
    "trusted": true,
    "execution": {
     "iopub.status.busy": "2024-12-22T18:02:03.929364Z",
     "iopub.execute_input": "2024-12-22T18:02:03.929713Z",
     "iopub.status.idle": "2024-12-22T18:02:20.833004Z",
     "shell.execute_reply.started": "2024-12-22T18:02:03.929681Z",
     "shell.execute_reply": "2024-12-22T18:02:20.832151Z"
    }
   },
   "outputs": [
    {
     "name": "stderr",
     "text": " 17%|█▋        | 1/6 [00:02<00:14,  2.90s/it]",
     "output_type": "stream"
    },
    {
     "name": "stdout",
     "text": "Row 0: reindeer mistletoe elf scrooge gingerbread chimney fireplace ornament family advent\nPerplexity Score: 496.23\n\n",
     "output_type": "stream"
    },
    {
     "name": "stderr",
     "text": " 33%|███▎      | 2/6 [00:05<00:11,  2.87s/it]",
     "output_type": "stream"
    },
    {
     "name": "stdout",
     "text": "Row 1: reindeer mistletoe elf and the scrooge gingerbread chimney fireplace ornament advent family night sleep walk drive laugh jump give bake\nPerplexity Score: 549.27\n\n",
     "output_type": "stream"
    },
    {
     "name": "stderr",
     "text": " 50%|█████     | 3/6 [00:08<00:08,  2.87s/it]",
     "output_type": "stream"
    },
    {
     "name": "stdout",
     "text": "Row 2: magi yuletide cheer grinch carol holiday holly jingle naughty nice polar workshop chimney sleigh beard nutcracker ornament decorations gifts stocking\nPerplexity Score: 308.11\n\n",
     "output_type": "stream"
    },
    {
     "name": "stderr",
     "text": " 67%|██████▋   | 4/6 [00:11<00:05,  2.81s/it]",
     "output_type": "stream"
    },
    {
     "name": "stdout",
     "text": "Row 3: ornament yuletide holiday the of decorations and gifts is unwrap magi carol sing holly jingle relax eat cheer cheer grinch naughty nice visit sleigh polar beard workshop chimney stocking nutcracker\nPerplexity Score: 266.65\n\n",
     "output_type": "stream"
    },
    {
     "name": "stderr",
     "text": " 83%|████████▎ | 5/6 [00:14<00:02,  2.80s/it]",
     "output_type": "stream"
    },
    {
     "name": "stdout",
     "text": "Row 4: eggnog the season of peace and joy hope wish dream believe in wonder merry that not as we have it to you from with wrapping paper bow greeting card game night puzzle toy doll cookie milk chocolate peppermint candy fruitcake wreath poinsettia star angel snowglobe candle fireplace hohoho kaggle workshop\nPerplexity Score: 126.45\n\n",
     "output_type": "stream"
    },
    {
     "name": "stderr",
     "text": "100%|██████████| 6/6 [00:16<00:00,  2.82s/it]",
     "output_type": "stream"
    },
    {
     "name": "stdout",
     "text": "Row 5: poinsettia yuletide eggnog milk chocolate peppermint candy fruitcake mistletoe holly wreath gingerbread cookie chimney chimney fireplace fireplace stocking hohoho laugh cheer jump sing bake walk drive visit eat sleep relax unwrap give to and from the and the and the of of as in is you that it we with have not family holiday season decorations gifts card greeting wrapping paper bow toy doll game puzzle ornament ornament nutcracker scrooge grinch snowglobe sleigh reindeer polar beard elf workshop workshop naughty nice night night wish dream hope believe wonder magi star angel advent candle carol joy peace cheer merry jingle kaggle\nPerplexity Score: 50.89\n\nMean Perplexity Score: 299.60\n",
     "output_type": "stream"
    },
    {
     "name": "stderr",
     "text": "\n",
     "output_type": "stream"
    }
   ],
   "execution_count": 9
  },
  {
   "cell_type": "code",
   "source": [
    "# scorer.clear_gpu_memory()"
   ],
   "metadata": {
    "trusted": true,
    "execution": {
     "iopub.status.busy": "2024-12-12T16:41:44.632798Z",
     "iopub.execute_input": "2024-12-12T16:41:44.633159Z",
     "iopub.status.idle": "2024-12-12T16:41:45.270399Z",
     "shell.execute_reply.started": "2024-12-12T16:41:44.633122Z",
     "shell.execute_reply": "2024-12-12T16:41:45.269432Z"
    }
   },
   "outputs": [],
   "execution_count": 6
  },
  {
   "cell_type": "code",
   "source": [
    "submission = pd.DataFrame(columns=['id', 'text'])\n",
    "\n",
    "for idx, row in df.iterrows():\n",
    "\n",
    "    id = row.id\n",
    "    optimized_text = row.text\n",
    "\n",
    "    submission.loc[idx] = {\n",
    "        'id': id,\n",
    "        'text': optimized_text\n",
    "    }\n",
    "\n",
    "submission.to_csv(\"submission_ibis.csv\", index=False)\n",
    "\n",
    "print('submission created')"
   ],
   "metadata": {
    "trusted": true,
    "execution": {
     "iopub.status.busy": "2024-12-22T18:02:27.335618Z",
     "iopub.execute_input": "2024-12-22T18:02:27.335976Z",
     "iopub.status.idle": "2024-12-22T18:02:27.358414Z",
     "shell.execute_reply.started": "2024-12-22T18:02:27.335941Z",
     "shell.execute_reply": "2024-12-22T18:02:27.357587Z"
    }
   },
   "outputs": [
    {
     "name": "stdout",
     "text": "submission created\n",
     "output_type": "stream"
    }
   ],
   "execution_count": 10
  },
  {
   "cell_type": "code",
   "source": [],
   "metadata": {
    "trusted": true
   },
   "outputs": [],
   "execution_count": null
  },
  {
   "cell_type": "code",
   "source": [],
   "metadata": {
    "trusted": true
   },
   "outputs": [],
   "execution_count": null
  }
 ]
}
