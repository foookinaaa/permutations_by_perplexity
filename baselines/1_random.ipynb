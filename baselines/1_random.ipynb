{
 "cells": [
  {
   "cell_type": "markdown",
   "metadata": {},
   "source": [
    "# Random sample\n",
    "Just check random permutations\\\n",
    "(+) can be found global optimum for pure chance, but probability is too low\\\n",
    "(+) super fast\\\n",
    "(-) probably cannot find the best desicion"
   ]
  },
  {
   "cell_type": "code",
   "execution_count": 1,
   "metadata": {
    "pycharm": {
     "is_executing": true
    }
   },
   "outputs": [],
   "source": [
    "import pandas as pd\n",
    "import numpy as np\n",
    "from tqdm import tqdm\n",
    "import numpy as np\n",
    "import random"
   ]
  },
  {
   "cell_type": "code",
   "execution_count": 38,
   "metadata": {
    "collapsed": false,
    "execution": {
     "iopub.execute_input": "2024-12-12T16:54:02.207783Z",
     "iopub.status.busy": "2024-12-12T16:54:02.207441Z",
     "iopub.status.idle": "2024-12-12T16:54:02.214369Z",
     "shell.execute_reply": "2024-12-12T16:54:02.213450Z",
     "shell.execute_reply.started": "2024-12-12T16:54:02.207755Z"
    },
    "jupyter": {
     "outputs_hidden": false
    }
   },
   "outputs": [],
   "source": [
    "df = pd.read_csv('/kaggle/input/santa-2024/sample_submission.csv')"
   ]
  },
  {
   "cell_type": "code",
   "execution_count": 39,
   "metadata": {
    "execution": {
     "iopub.execute_input": "2024-12-12T16:54:02.691866Z",
     "iopub.status.busy": "2024-12-12T16:54:02.691559Z",
     "iopub.status.idle": "2024-12-12T16:54:02.700297Z",
     "shell.execute_reply": "2024-12-12T16:54:02.699361Z",
     "shell.execute_reply.started": "2024-12-12T16:54:02.691837Z"
    }
   },
   "outputs": [
    {
     "data": {
      "text/html": [
       "<div>\n",
       "<style scoped>\n",
       "    .dataframe tbody tr th:only-of-type {\n",
       "        vertical-align: middle;\n",
       "    }\n",
       "\n",
       "    .dataframe tbody tr th {\n",
       "        vertical-align: top;\n",
       "    }\n",
       "\n",
       "    .dataframe thead th {\n",
       "        text-align: right;\n",
       "    }\n",
       "</style>\n",
       "<table border=\"1\" class=\"dataframe\">\n",
       "  <thead>\n",
       "    <tr style=\"text-align: right;\">\n",
       "      <th></th>\n",
       "      <th>id</th>\n",
       "      <th>text</th>\n",
       "    </tr>\n",
       "  </thead>\n",
       "  <tbody>\n",
       "    <tr>\n",
       "      <th>0</th>\n",
       "      <td>0</td>\n",
       "      <td>advent chimney elf family fireplace gingerbrea...</td>\n",
       "    </tr>\n",
       "    <tr>\n",
       "      <th>1</th>\n",
       "      <td>1</td>\n",
       "      <td>advent chimney elf family fireplace gingerbrea...</td>\n",
       "    </tr>\n",
       "    <tr>\n",
       "      <th>2</th>\n",
       "      <td>2</td>\n",
       "      <td>yuletide decorations gifts cheer holiday carol...</td>\n",
       "    </tr>\n",
       "    <tr>\n",
       "      <th>3</th>\n",
       "      <td>3</td>\n",
       "      <td>yuletide decorations gifts cheer holiday carol...</td>\n",
       "    </tr>\n",
       "    <tr>\n",
       "      <th>4</th>\n",
       "      <td>4</td>\n",
       "      <td>hohoho candle poinsettia snowglobe peppermint ...</td>\n",
       "    </tr>\n",
       "    <tr>\n",
       "      <th>5</th>\n",
       "      <td>5</td>\n",
       "      <td>advent chimney elf family fireplace gingerbrea...</td>\n",
       "    </tr>\n",
       "  </tbody>\n",
       "</table>\n",
       "</div>"
      ],
      "text/plain": [
       "   id                                               text\n",
       "0   0  advent chimney elf family fireplace gingerbrea...\n",
       "1   1  advent chimney elf family fireplace gingerbrea...\n",
       "2   2  yuletide decorations gifts cheer holiday carol...\n",
       "3   3  yuletide decorations gifts cheer holiday carol...\n",
       "4   4  hohoho candle poinsettia snowglobe peppermint ...\n",
       "5   5  advent chimney elf family fireplace gingerbrea..."
      ]
     },
     "execution_count": 39,
     "metadata": {},
     "output_type": "execute_result"
    }
   ],
   "source": [
    "df"
   ]
  },
  {
   "cell_type": "code",
   "execution_count": 20,
   "metadata": {
    "execution": {
     "iopub.execute_input": "2024-12-12T16:46:59.933676Z",
     "iopub.status.busy": "2024-12-12T16:46:59.933321Z",
     "iopub.status.idle": "2024-12-12T16:49:31.749221Z",
     "shell.execute_reply": "2024-12-12T16:49:31.748537Z",
     "shell.execute_reply.started": "2024-12-12T16:46:59.933646Z"
    }
   },
   "outputs": [
    {
     "data": {
      "application/vnd.jupyter.widget-view+json": {
       "model_id": "fe0447c6c72948c49292e5906be37b31",
       "version_major": 2,
       "version_minor": 0
      },
      "text/plain": [
       "Loading checkpoint shards:   0%|          | 0/8 [00:00<?, ?it/s]"
      ]
     },
     "metadata": {},
     "output_type": "display_data"
    }
   ],
   "source": [
    "from metric import PerplexityCalculator\n",
    "scorer = PerplexityCalculator('/kaggle/input/gemma-2/transformers/gemma-2-9b/2')"
   ]
  },
  {
   "cell_type": "markdown",
   "metadata": {},
   "source": [
    "Perplexity for raw texts as is"
   ]
  },
  {
   "cell_type": "code",
   "execution_count": 5,
   "metadata": {
    "execution": {
     "iopub.execute_input": "2024-12-12T16:41:43.126618Z",
     "iopub.status.busy": "2024-12-12T16:41:43.126084Z",
     "iopub.status.idle": "2024-12-12T16:41:44.631565Z",
     "shell.execute_reply": "2024-12-12T16:41:44.630735Z",
     "shell.execute_reply.started": "2024-12-12T16:41:43.126591Z"
    }
   },
   "outputs": [
    {
     "name": "stderr",
     "output_type": "stream",
     "text": [
      " 33%|███▎      | 2/6 [00:00<00:01,  2.46it/s]"
     ]
    },
    {
     "name": "stdout",
     "output_type": "stream",
     "text": [
      "Row 0: advent chimney elf family fireplace gingerbread mistletoe ornament reindeer scrooge\n",
      "Perplexity Score: 3887.90\n",
      "\n",
      "Row 1: advent chimney elf family fireplace gingerbread mistletoe ornament reindeer scrooge walk give jump drive bake the sleep night laugh and\n",
      "Perplexity Score: 6068.93\n",
      "\n"
     ]
    },
    {
     "name": "stderr",
     "output_type": "stream",
     "text": [
      " 67%|██████▋   | 4/6 [00:01<00:00,  4.40it/s]"
     ]
    },
    {
     "name": "stdout",
     "output_type": "stream",
     "text": [
      "Row 2: yuletide decorations gifts cheer holiday carol magi nutcracker polar grinch sleigh chimney workshop stocking ornament holly jingle beard naughty nice\n",
      "Perplexity Score: 1118.26\n",
      "\n",
      "Row 3: yuletide decorations gifts cheer holiday carol magi nutcracker polar grinch sleigh chimney workshop stocking ornament holly jingle beard naughty nice sing cheer and of the is eat visit relax unwrap\n",
      "Perplexity Score: 1287.11\n",
      "\n"
     ]
    },
    {
     "name": "stderr",
     "output_type": "stream",
     "text": [
      "100%|██████████| 6/6 [00:01<00:00,  4.02it/s]"
     ]
    },
    {
     "name": "stdout",
     "output_type": "stream",
     "text": [
      "Row 4: hohoho candle poinsettia snowglobe peppermint eggnog fruitcake chocolate candy puzzle game doll toy workshop wonder believe dream hope peace joy merry season greeting card wrapping paper bow fireplace night cookie milk star wish wreath angel the to of and in that have it not with as you from we kaggle\n",
      "Perplexity Score: 353.25\n",
      "\n",
      "Row 5: advent chimney elf family fireplace gingerbread mistletoe ornament reindeer scrooge walk give jump drive bake the sleep night laugh and yuletide decorations gifts cheer holiday carol magi nutcracker polar grinch sleigh chimney workshop stocking ornament holly jingle beard naughty nice sing cheer and of the is eat visit relax unwrap hohoho candle poinsettia snowglobe peppermint eggnog fruitcake chocolate candy puzzle game doll toy workshop wonder believe dream hope peace joy merry season greeting card wrapping paper bow fireplace night cookie milk star wish wreath angel the to of and in that have it not with as you from we kaggle\n",
      "Perplexity Score: 354.64\n",
      "\n",
      "Mean Perplexity Score: 2178.35\n"
     ]
    },
    {
     "name": "stderr",
     "output_type": "stream",
     "text": [
      "\n"
     ]
    }
   ],
   "source": [
    "scores = []\n",
    "\n",
    "for idx, row in tqdm(df.iterrows(), total=len(df)):\n",
    "    score = scorer.get_perplexity(row.text)\n",
    "\n",
    "    print(f\"Row {idx}: {row.text}\")\n",
    "    print(f\"Perplexity Score: {score:.2f}\\n\")\n",
    "\n",
    "    scores.append(score)\n",
    "\n",
    "mean_score = np.mean(scores)\n",
    "print(f\"Mean Perplexity Score: {mean_score:.2f}\")"
   ]
  },
  {
   "cell_type": "code",
   "execution_count": 6,
   "metadata": {
    "execution": {
     "iopub.execute_input": "2024-12-12T16:41:44.633159Z",
     "iopub.status.busy": "2024-12-12T16:41:44.632798Z",
     "iopub.status.idle": "2024-12-12T16:41:45.270399Z",
     "shell.execute_reply": "2024-12-12T16:41:45.269432Z",
     "shell.execute_reply.started": "2024-12-12T16:41:44.633122Z"
    }
   },
   "outputs": [],
   "source": [
    "# scorer.clear_gpu_memory()"
   ]
  },
  {
   "cell_type": "markdown",
   "metadata": {},
   "source": [
    "Mean perplexity for all raw texts id 2178.35   \n",
    "The worst perplexity has text1 is 6068.93 and text0 is 3887.90     \n",
    "Let's randomly rearrange this texts just for check, maybe we can improve it a little bit"
   ]
  },
  {
   "cell_type": "code",
   "execution_count": 51,
   "metadata": {
    "execution": {
     "iopub.execute_input": "2024-12-12T16:55:49.322707Z",
     "iopub.status.busy": "2024-12-12T16:55:49.322351Z",
     "iopub.status.idle": "2024-12-12T16:55:49.327872Z",
     "shell.execute_reply": "2024-12-12T16:55:49.326986Z",
     "shell.execute_reply.started": "2024-12-12T16:55:49.322678Z"
    }
   },
   "outputs": [],
   "source": [
    "el = df['text'][0].split()\n",
    "random.seed(0)\n",
    "random.shuffle(el)\n",
    "df.loc[0, 'text'] = ' '.join(el)"
   ]
  },
  {
   "cell_type": "code",
   "execution_count": 53,
   "metadata": {
    "execution": {
     "iopub.execute_input": "2024-12-12T16:55:54.768079Z",
     "iopub.status.busy": "2024-12-12T16:55:54.767200Z",
     "iopub.status.idle": "2024-12-12T16:55:54.772780Z",
     "shell.execute_reply": "2024-12-12T16:55:54.771722Z",
     "shell.execute_reply.started": "2024-12-12T16:55:54.768044Z"
    }
   },
   "outputs": [],
   "source": [
    "el = df['text'][1].split()\n",
    "random.seed(0)\n",
    "random.shuffle(el)\n",
    "df.loc[1, 'text'] = ' '.join(el)"
   ]
  },
  {
   "cell_type": "code",
   "execution_count": 54,
   "metadata": {
    "execution": {
     "iopub.execute_input": "2024-12-12T16:55:59.871759Z",
     "iopub.status.busy": "2024-12-12T16:55:59.870914Z",
     "iopub.status.idle": "2024-12-12T16:56:00.712757Z",
     "shell.execute_reply": "2024-12-12T16:56:00.711790Z",
     "shell.execute_reply.started": "2024-12-12T16:55:59.871724Z"
    }
   },
   "outputs": [
    {
     "name": "stderr",
     "output_type": "stream",
     "text": [
      " 33%|███▎      | 2/6 [00:00<00:00,  7.28it/s]"
     ]
    },
    {
     "name": "stdout",
     "output_type": "stream",
     "text": [
      "Row 0: ornament reindeer chimney gingerbread family fireplace elf advent scrooge mistletoe\n",
      "Perplexity Score: 2105.57\n",
      "\n",
      "Row 1: walk laugh sleep bake advent night give elf family scrooge gingerbread ornament fireplace and mistletoe the reindeer chimney drive jump\n",
      "Perplexity Score: 2833.36\n",
      "\n"
     ]
    },
    {
     "name": "stderr",
     "output_type": "stream",
     "text": [
      " 67%|██████▋   | 4/6 [00:00<00:00,  7.35it/s]"
     ]
    },
    {
     "name": "stdout",
     "output_type": "stream",
     "text": [
      "Row 2: yuletide decorations gifts cheer holiday carol magi nutcracker polar grinch sleigh chimney workshop stocking ornament holly jingle beard naughty nice\n",
      "Perplexity Score: 1118.26\n",
      "\n",
      "Row 3: yuletide decorations gifts cheer holiday carol magi nutcracker polar grinch sleigh chimney workshop stocking ornament holly jingle beard naughty nice sing cheer and of the is eat visit relax unwrap\n",
      "Perplexity Score: 1287.11\n",
      "\n"
     ]
    },
    {
     "name": "stderr",
     "output_type": "stream",
     "text": [
      "100%|██████████| 6/6 [00:00<00:00,  7.20it/s]"
     ]
    },
    {
     "name": "stdout",
     "output_type": "stream",
     "text": [
      "Row 4: hohoho candle poinsettia snowglobe peppermint eggnog fruitcake chocolate candy puzzle game doll toy workshop wonder believe dream hope peace joy merry season greeting card wrapping paper bow fireplace night cookie milk star wish wreath angel the to of and in that have it not with as you from we kaggle\n",
      "Perplexity Score: 353.25\n",
      "\n",
      "Row 5: advent chimney elf family fireplace gingerbread mistletoe ornament reindeer scrooge walk give jump drive bake the sleep night laugh and yuletide decorations gifts cheer holiday carol magi nutcracker polar grinch sleigh chimney workshop stocking ornament holly jingle beard naughty nice sing cheer and of the is eat visit relax unwrap hohoho candle poinsettia snowglobe peppermint eggnog fruitcake chocolate candy puzzle game doll toy workshop wonder believe dream hope peace joy merry season greeting card wrapping paper bow fireplace night cookie milk star wish wreath angel the to of and in that have it not with as you from we kaggle\n",
      "Perplexity Score: 354.64\n",
      "\n",
      "Mean Perplexity Score: 1342.03\n"
     ]
    },
    {
     "name": "stderr",
     "output_type": "stream",
     "text": [
      "\n"
     ]
    }
   ],
   "source": [
    "scores = []\n",
    "\n",
    "for idx, row in tqdm(df.iterrows(), total=len(df)):\n",
    "    score = scorer.get_perplexity(row.text)\n",
    "\n",
    "    print(f\"Row {idx}: {row.text}\")\n",
    "    print(f\"Perplexity Score: {score:.2f}\\n\")\n",
    "\n",
    "    scores.append(score)\n",
    "\n",
    "mean_score = np.mean(scores)\n",
    "print(f\"Mean Perplexity Score: {mean_score:.2f}\")"
   ]
  },
  {
   "cell_type": "markdown",
   "metadata": {},
   "source": [
    "We lower perplexity just with random rearranging words   \n",
    "We can use it as first level baseline"
   ]
  },
  {
   "cell_type": "code",
   "execution_count": 55,
   "metadata": {
    "execution": {
     "iopub.execute_input": "2024-12-12T16:57:54.417967Z",
     "iopub.status.busy": "2024-12-12T16:57:54.417608Z",
     "iopub.status.idle": "2024-12-12T16:57:54.447442Z",
     "shell.execute_reply": "2024-12-12T16:57:54.446618Z",
     "shell.execute_reply.started": "2024-12-12T16:57:54.417939Z"
    }
   },
   "outputs": [
    {
     "name": "stdout",
     "output_type": "stream",
     "text": [
      "submission created\n"
     ]
    }
   ],
   "source": [
    "submission = pd.DataFrame(columns=['id', 'text'])\n",
    "\n",
    "for idx, row in df.iterrows():\n",
    "\n",
    "    id = row.id\n",
    "    optimized_text = row.text\n",
    "\n",
    "    submission.loc[idx] = {\n",
    "        'id': id,\n",
    "        'text': optimized_text\n",
    "    }\n",
    "\n",
    "submission.to_csv(\"submission_random.csv\", index=False)\n",
    "\n",
    "print('submission created')"
   ]
  },
  {
   "cell_type": "code",
   "execution_count": null,
   "metadata": {},
   "outputs": [],
   "source": []
  }
 ],
 "metadata": {
  "kaggle": {
   "accelerator": "nvidiaTeslaT4",
   "dataSources": [
    {
     "databundleVersionId": 10229277,
     "sourceId": 88046,
     "sourceType": "competition"
    },
    {
     "sourceId": 209577560,
     "sourceType": "kernelVersion"
    },
    {
     "isSourceIdPinned": true,
     "modelId": 76277,
     "modelInstanceId": 72255,
     "sourceId": 104492,
     "sourceType": "modelInstanceVersion"
    }
   ],
   "dockerImageVersionId": 30805,
   "isGpuEnabled": true,
   "isInternetEnabled": true,
   "language": "python",
   "sourceType": "notebook"
  },
  "kernelspec": {
   "display_name": "Python 3 (ipykernel)",
   "language": "python",
   "name": "python3"
  },
  "language_info": {
   "codemirror_mode": {
    "name": "ipython",
    "version": 3
   },
   "file_extension": ".py",
   "mimetype": "text/x-python",
   "name": "python",
   "nbconvert_exporter": "python",
   "pygments_lexer": "ipython3",
   "version": "3.11.8"
  }
 },
 "nbformat": 4,
 "nbformat_minor": 4
}
