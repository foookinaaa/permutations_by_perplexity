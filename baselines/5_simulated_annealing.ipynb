{
 "cells": [
  {
   "cell_type": "markdown",
   "metadata": {},
   "source": [
    "# Simulated annealing\n",
    "Take sequence and swap to random elements in it. Repeat this from temperature start to end with cooling rate. On each temperature do some steps with random swaping.\\\n",
    "(+) can improve previous scores\\\n",
    "(-) still can be in loval optmum, instead of global\\\n",
    "(-) dependent on temperature, time consuming"
   ]
  },
  {
   "cell_type": "code",
   "execution_count": 1,
   "metadata": {},
   "outputs": [],
   "source": [
    "import pandas as pd\n",
    "import numpy as np\n",
    "from tqdm import tqdm\n",
    "import numpy as np\n",
    "import random\n",
    "import time\n",
    "import math"
   ]
  },
  {
   "cell_type": "code",
   "execution_count": 8,
   "metadata": {
    "collapsed": false,
    "execution": {
     "iopub.execute_input": "2024-12-15T10:50:11.095295Z",
     "iopub.status.busy": "2024-12-15T10:50:11.094966Z",
     "iopub.status.idle": "2024-12-15T10:50:11.105776Z",
     "shell.execute_reply": "2024-12-15T10:50:11.104816Z",
     "shell.execute_reply.started": "2024-12-15T10:50:11.095265Z"
    },
    "jupyter": {
     "outputs_hidden": false
    }
   },
   "outputs": [],
   "source": [
    "# we will be improving beam search desicion\n",
    "df = pd.read_csv('/kaggle/input/beam-search/submission_beam.csv')"
   ]
  },
  {
   "cell_type": "code",
   "execution_count": 9,
   "metadata": {
    "execution": {
     "iopub.execute_input": "2024-12-15T10:50:11.779558Z",
     "iopub.status.busy": "2024-12-15T10:50:11.779227Z",
     "iopub.status.idle": "2024-12-15T10:50:11.789516Z",
     "shell.execute_reply": "2024-12-15T10:50:11.788664Z",
     "shell.execute_reply.started": "2024-12-15T10:50:11.779528Z"
    }
   },
   "outputs": [
    {
     "data": {
      "text/html": [
       "<div>\n",
       "<style scoped>\n",
       "    .dataframe tbody tr th:only-of-type {\n",
       "        vertical-align: middle;\n",
       "    }\n",
       "\n",
       "    .dataframe tbody tr th {\n",
       "        vertical-align: top;\n",
       "    }\n",
       "\n",
       "    .dataframe thead th {\n",
       "        text-align: right;\n",
       "    }\n",
       "</style>\n",
       "<table border=\"1\" class=\"dataframe\">\n",
       "  <thead>\n",
       "    <tr style=\"text-align: right;\">\n",
       "      <th></th>\n",
       "      <th>id</th>\n",
       "      <th>text</th>\n",
       "    </tr>\n",
       "  </thead>\n",
       "  <tbody>\n",
       "    <tr>\n",
       "      <th>0</th>\n",
       "      <td>0</td>\n",
       "      <td>reindeer mistletoe scrooge elf gingerbread chi...</td>\n",
       "    </tr>\n",
       "    <tr>\n",
       "      <th>1</th>\n",
       "      <td>1</td>\n",
       "      <td>reindeer mistletoe elf scrooge gingerbread chi...</td>\n",
       "    </tr>\n",
       "    <tr>\n",
       "      <th>2</th>\n",
       "      <td>2</td>\n",
       "      <td>nutcracker yuletide grinch gifts holiday decor...</td>\n",
       "    </tr>\n",
       "    <tr>\n",
       "      <th>3</th>\n",
       "      <td>3</td>\n",
       "      <td>ornament yuletide of the holiday decorations a...</td>\n",
       "    </tr>\n",
       "    <tr>\n",
       "      <th>4</th>\n",
       "      <td>4</td>\n",
       "      <td>eggnog fruitcake chocolate poinsettia peppermi...</td>\n",
       "    </tr>\n",
       "    <tr>\n",
       "      <th>5</th>\n",
       "      <td>5</td>\n",
       "      <td>poinsettia yuletide eggnog fruitcake mistletoe...</td>\n",
       "    </tr>\n",
       "  </tbody>\n",
       "</table>\n",
       "</div>"
      ],
      "text/plain": [
       "   id                                               text\n",
       "0   0  reindeer mistletoe scrooge elf gingerbread chi...\n",
       "1   1  reindeer mistletoe elf scrooge gingerbread chi...\n",
       "2   2  nutcracker yuletide grinch gifts holiday decor...\n",
       "3   3  ornament yuletide of the holiday decorations a...\n",
       "4   4  eggnog fruitcake chocolate poinsettia peppermi...\n",
       "5   5  poinsettia yuletide eggnog fruitcake mistletoe..."
      ]
     },
     "execution_count": 9,
     "metadata": {},
     "output_type": "execute_result"
    }
   ],
   "source": [
    "df"
   ]
  },
  {
   "cell_type": "code",
   "execution_count": 4,
   "metadata": {
    "execution": {
     "iopub.execute_input": "2024-12-15T10:46:48.737193Z",
     "iopub.status.busy": "2024-12-15T10:46:48.736333Z",
     "iopub.status.idle": "2024-12-15T10:49:43.680035Z",
     "shell.execute_reply": "2024-12-15T10:49:43.679117Z",
     "shell.execute_reply.started": "2024-12-15T10:46:48.737157Z"
    }
   },
   "outputs": [
    {
     "data": {
      "application/vnd.jupyter.widget-view+json": {
       "model_id": "bb5f4e836926483ea74c5c54feb25d9f",
       "version_major": 2,
       "version_minor": 0
      },
      "text/plain": [
       "Loading checkpoint shards:   0%|          | 0/8 [00:00<?, ?it/s]"
      ]
     },
     "metadata": {},
     "output_type": "display_data"
    }
   ],
   "source": [
    "from metric import PerplexityCalculator\n",
    "scorer = PerplexityCalculator('/kaggle/input/gemma-2/transformers/gemma-2-9b/2')"
   ]
  },
  {
   "cell_type": "markdown",
   "metadata": {},
   "source": [
    "* \">\" new version with score improved\n",
    "* \"<\" new version with poorer score\n",
    "* \"-\" maintaining existing version"
   ]
  },
  {
   "cell_type": "code",
   "execution_count": 10,
   "metadata": {
    "execution": {
     "iopub.execute_input": "2024-12-15T10:50:14.132854Z",
     "iopub.status.busy": "2024-12-15T10:50:14.132513Z",
     "iopub.status.idle": "2024-12-15T10:50:14.142402Z",
     "shell.execute_reply": "2024-12-15T10:50:14.141552Z",
     "shell.execute_reply.started": "2024-12-15T10:50:14.132825Z"
    }
   },
   "outputs": [],
   "source": [
    "temp_start = 10.0    #how high a temperature we start with (prior 10)\n",
    "temp_end = 0.5       #final temperature (prior 0.2)\n",
    "cooling_rate = 0.95  #how quick we cool each time we drop temp (prior 0.95)\n",
    "steps_per_temp = 20 #5  #steps at each temperature (prior 20)    <---- Increase this for a longer run (20 steps is about 3 hours)\n",
    "\n",
    "def simulated_annealing_optimize(text: str, temp_start=temp_start, temp_end=temp_end, cooling_rate=cooling_rate, steps_per_temp=steps_per_temp, verbose=False):\n",
    "    \"\"\"Optimize word sequence using simulated annealing, handling NaN scores by randomizing.\n",
    "\n",
    "    Args:\n",
    "       text: Input string of space-separated words to optimize\n",
    "       temp_start: Starting temperature - higher means more random exploration\n",
    "       temp_end: Ending temperature - lower means more selective at end\n",
    "       cooling_rate: How fast temperature decreases each step\n",
    "       steps_per_temp: How many swaps to try at each temperature\n",
    "       verbose: Whether to print detailed progress\n",
    "    \"\"\"\n",
    "    \n",
    "    words = text.split()\n",
    "\n",
    "    current = words.copy()\n",
    "    current_score = scorer.get_perplexity(' '.join(current))\n",
    "\n",
    "    # Handling any NaNs...\n",
    "    if math.isnan(current_score):\n",
    "        # Keep shuffling until we find a valid sequence\n",
    "        while True:\n",
    "            current = words.copy()\n",
    "            random.shuffle(current)\n",
    "            current_score = scorer.get_perplexity(' '.join(current))\n",
    "            if not math.isnan(current_score):\n",
    "                break\n",
    "            \n",
    "    best = current.copy()\n",
    "    best_score = current_score\n",
    "    temp = temp_start\n",
    "    print(f\"Start Temperature: {temp:.2f}, Initial score: {current_score:.2f}\")\n",
    "    \n",
    "    # Main annealing loop - keep trying until we've cooled down enough\n",
    "    while temp > temp_end:\n",
    "        for _ in range(steps_per_temp):  # Do multiple attempts at each temperature\n",
    "            # Try improving sequence by swapping random pairs of words\n",
    "            i, j = random.sample(range(len(words)), 2)\n",
    "            neighbor = current.copy()\n",
    "            neighbor[i], neighbor[j] = neighbor[j], neighbor[i]\n",
    "            \n",
    "            # Get score for this arrangement, skip if invalid\n",
    "            neighbor_score = scorer.get_perplexity(' '.join(neighbor))\n",
    "            if math.isnan(neighbor_score):\n",
    "                continue\n",
    "            \n",
    "            # Accept better scores, sometimes accept worse ones based on temperature\n",
    "            delta = neighbor_score - current_score\n",
    "            if delta < 0 or random.random() < math.exp(-delta / temp):\n",
    "                current = neighbor\n",
    "                current_score = neighbor_score\n",
    "                \n",
    "                if current_score < best_score:\n",
    "                    best = current.copy()\n",
    "                    best_score = current_score\n",
    "                    print(\">\", end=\"\")\n",
    "                else: print(\"<\", end=\"\")\n",
    "            else:print(\"-\", end=\"\")\n",
    "\n",
    "        \n",
    "        # Reduce temperature according to cooling schedule (AFTER all steps at this temperature)\n",
    "        temp *= cooling_rate\n",
    "        if verbose: print(f\"\\nTemperature: {temp:.2f}, Current score: {current_score:.2f}\")\n",
    "    \n",
    "    print(f\"\\nFinal score: {best_score:.2f}, {best}\")\n",
    "    \n",
    "    return ' '.join(best), best_score"
   ]
  },
  {
   "cell_type": "code",
   "execution_count": 11,
   "metadata": {
    "execution": {
     "iopub.execute_input": "2024-12-15T10:50:14.696949Z",
     "iopub.status.busy": "2024-12-15T10:50:14.696128Z",
     "iopub.status.idle": "2024-12-15T11:04:42.616084Z",
     "shell.execute_reply": "2024-12-15T11:04:42.615235Z",
     "shell.execute_reply.started": "2024-12-15T10:50:14.696916Z"
    }
   },
   "outputs": [
    {
     "name": "stdout",
     "output_type": "stream",
     "text": [
      "\n",
      "Processing sample 0...\n",
      "Start Temperature: 10.00, Initial score: 515.99\n",
      "------------------------------------------<-----------<-------------<<--->---------------------------------------------------------------------------------------------<-----------------------------------------------------------------------------------------------------------------------------------------------<----------------------------------------------------------------------------------------------------------------------------------------------------------------------------------------------------------------------------------------------------------------------------------------------------------------------------------------------------------------------------------------------------------------------------------------------------------------------------------------------------------------------------------------------------------------------------------------------------------------------------------------------------------------------------------------------------------------------------------------------------------------------------------------------------------------------------------------------------------------------------------------------------\n",
      "Final score: 496.23, ['reindeer', 'mistletoe', 'elf', 'scrooge', 'gingerbread', 'chimney', 'fireplace', 'ornament', 'family', 'advent']\n",
      "--------------------------------------------------\n",
      "\n",
      "Processing sample 1...\n",
      "Start Temperature: 10.00, Initial score: 598.56\n",
      "---------------------------------------------------------------------------------------------------<---------------------<-<---------------->-------------------------------------------<-------------------------------<---------------------------------------------------------------------------------->------------------------------------<-----------------------------------------------------------------------------------------------------------------------------------------------------------------------------------------------------------------------------------------------<-------------------------------------------------------------------------------------------------------------------------------------------------------------------------------------------------------<------------------------------------------<------------------------------------------------------------------------------------------------------------------------------------------------------------------------------------------------------------------------------------------------------------------------------------------------------------------------------------------------------------------------\n",
      "Final score: 577.89, ['reindeer', 'mistletoe', 'elf', 'scrooge', 'gingerbread', 'chimney', 'fireplace', 'ornament', 'family', 'advent', 'night', 'sleep', 'walk', 'drive', 'give', 'laugh', 'jump', 'bake', 'and', 'the']\n",
      "--------------------------------------------------\n",
      "\n",
      "Processing sample 2...\n",
      "Start Temperature: 10.00, Initial score: 526.17\n",
      "----------------------<-------<-->------->-------->>-------------------------------<--------------------------------------------------------------------------------------------------------------------------------------------------------------------<-----------------------------------<---------------------------------------------------------------------------------------------------<------------------------------------------------------------------------------------------------------------------------------------------<--------------------------------------------------<-----------------------------------------------------------------------------------------------------------------------------------------------------------------------------------------------------------------------------------------------------------------------------------------------------------------------------------------------------------------------------------------------------------------------------------------------------------------------------------------------------------------------------------------------------------------------------------------------------------------------------\n",
      "Final score: 394.08, ['magi', 'yuletide', 'cheer', 'holiday', 'gifts', 'decorations', 'ornament', 'stocking', 'holly', 'jingle', 'sleigh', 'carol', 'naughty', 'nice', 'polar', 'beard', 'workshop', 'nutcracker', 'grinch', 'chimney']\n",
      "--------------------------------------------------\n",
      "\n",
      "Processing sample 3...\n",
      "Start Temperature: 10.00, Initial score: 386.46\n",
      "----------------------------------------------------->------------------------->---------------------------------------------------------------------------------------->------------------------>---------------------------------<------------------------<--------------------------------------------<-----<-------------------------------------------------------------------------<------------------------------------------------------<------------------------------------------------------------------------------------------------------------<--------------------------------------------------------------------------<----------------------->---------------------------------------------------------------------------------------------------------------------------------------------------------<---------------------------<--------------------------------------------------------------------------------------------<--------<-------------------------------->------------------------------------------------------------------------------------------------------------------<-----------------------------------------------------------------------------------------------------------\n",
      "Final score: 309.32, ['ornament', 'yuletide', 'holiday', 'the', 'of', 'decorations', 'and', 'gifts', 'unwrap', 'is', 'stocking', 'holly', 'jingle', 'relax', 'eat', 'carol', 'sing', 'cheer', 'cheer', 'grinch', 'naughty', 'nice', 'visit', 'sleigh', 'polar', 'beard', 'chimney', 'workshop', 'nutcracker', 'magi']\n",
      "--------------------------------------------------\n",
      "\n",
      "Processing sample 4...\n",
      "Start Temperature: 10.00, Initial score: 204.45\n",
      "--->------------------------------------------<-----<--------------------------------------------<-<-------------------------------------------------<-------------<----------------------------------------------<-----------------<-----<------------------------------------------------------------------------------------<-------------<----------<------------------<--------------------------<--------------------------------------<-----<-------<--------------------------------------------------------------------------------------------------------------------------------------------------------------------------------------------------------------------------------------------------------------------------<-------------------------------------------------------------------------------------------------------------------------------------------------------------<-----------------------------------------------------------------------------------------------------------------------------------------<------------------------------------------------------------<-----<----------------------------------------------------------------------------------------------------------\n",
      "Final score: 202.86, ['eggnog', 'fruitcake', 'chocolate', 'poinsettia', 'peppermint', 'candy', 'wreath', 'snowglobe', 'star', 'angel', 'candle', 'cookie', 'milk', 'and', 'the', 'season', 'of', 'peace', 'joy', 'hope', 'wish', 'dream', 'believe', 'in', 'wonder', 'merry', 'hohoho', 'to', 'you', 'as', 'we', 'have', 'it', 'with', 'wrapping', 'paper', 'bow', 'greeting', 'card', 'toy', 'doll', 'game', 'night', 'puzzle', 'fireplace', 'that', 'not', 'from', 'kaggle', 'workshop']\n",
      "--------------------------------------------------\n",
      "\n",
      "Processing sample 5...\n",
      "Start Temperature: 10.00, Initial score: 82.93\n",
      "-----<<-<---<-----------------------<-----------<--<-------<<----<----<-------<-<-<<-<<--<<----------<<--------<<------------------<--------<---<------------<<--<<------<--------<------------<--<------<--------------<---<-<-----<---<------<<-----<-----<-----<----<<-<<<-<-----<-<<---<-------<------<<------------<---<<------<------------------<---<----------<-<<-<----<---<-<-<--<----------<-<--------------------<----------<<<--<<<---<--<----------<----------<<---<--<--<<<-<--<<-----<----<----------<-------------------------------------<---<<--------------<---------------------------------------------------------<--<----<-----<---<-------------<---<------<---------------<---<----------------<<--<-----------------------<<--<<------<------------------------------<---<-----<--------<--------------------------------<------------------------------------------<--<--<<-------<------<-----------------<------------<--------------<<--------<------------<------------------------------<---------------<--------------------------------------<---------------------------------------<-<--<---------------------------<---------------<---------<----------------------------------------\n",
      "Final score: 82.93, ['poinsettia', 'yuletide', 'eggnog', 'fruitcake', 'mistletoe', 'nutcracker', 'scrooge', 'grinch', 'snowglobe', 'holly', 'wreath', 'gingerbread', 'cookie', 'peppermint', 'candy', 'sleigh', 'reindeer', 'elf', 'stocking', 'chimney', 'chimney', 'ornament', 'fireplace', 'fireplace', 'ornament', 'angel', 'star', 'candle', 'carol', 'holiday', 'season', 'joy', 'peace', 'cheer', 'merry', 'jingle', 'wish', 'dream', 'believe', 'hope', 'family', 'gifts', 'wrapping', 'paper', 'bow', 'card', 'greeting', 'hohoho', 'laugh', 'sing', 'eat', 'sleep', 'relax', 'unwrap', 'give', 'to', 'and', 'from', 'the', 'and', 'the', 'and', 'the', 'of', 'in', 'is', 'you', 'that', 'it', 'we', 'with', 'as', 'have', 'not', 'of', 'nice', 'naughty', 'night', 'night', 'visit', 'toy', 'doll', 'game', 'puzzle', 'advent', 'chocolate', 'milk', 'cheer', 'jump', 'bake', 'walk', 'drive', 'decorations', 'beard', 'polar', 'workshop', 'workshop', 'wonder', 'magi', 'kaggle']\n",
      "--------------------------------------------------\n",
      "\n",
      "Score Summary:\n",
      "Submission mean score: 343.88\n",
      "\n",
      "Submission file created!\n"
     ]
    },
    {
     "data": {
      "text/html": [
       "<div>\n",
       "<style scoped>\n",
       "    .dataframe tbody tr th:only-of-type {\n",
       "        vertical-align: middle;\n",
       "    }\n",
       "\n",
       "    .dataframe tbody tr th {\n",
       "        vertical-align: top;\n",
       "    }\n",
       "\n",
       "    .dataframe thead th {\n",
       "        text-align: right;\n",
       "    }\n",
       "</style>\n",
       "<table border=\"1\" class=\"dataframe\">\n",
       "  <thead>\n",
       "    <tr style=\"text-align: right;\">\n",
       "      <th></th>\n",
       "      <th>id</th>\n",
       "      <th>text</th>\n",
       "    </tr>\n",
       "  </thead>\n",
       "  <tbody>\n",
       "    <tr>\n",
       "      <th>0</th>\n",
       "      <td>0</td>\n",
       "      <td>reindeer mistletoe elf scrooge gingerbread chi...</td>\n",
       "    </tr>\n",
       "    <tr>\n",
       "      <th>1</th>\n",
       "      <td>1</td>\n",
       "      <td>reindeer mistletoe elf scrooge gingerbread chi...</td>\n",
       "    </tr>\n",
       "    <tr>\n",
       "      <th>2</th>\n",
       "      <td>2</td>\n",
       "      <td>magi yuletide cheer holiday gifts decorations ...</td>\n",
       "    </tr>\n",
       "    <tr>\n",
       "      <th>3</th>\n",
       "      <td>3</td>\n",
       "      <td>ornament yuletide holiday the of decorations a...</td>\n",
       "    </tr>\n",
       "    <tr>\n",
       "      <th>4</th>\n",
       "      <td>4</td>\n",
       "      <td>eggnog fruitcake chocolate poinsettia peppermi...</td>\n",
       "    </tr>\n",
       "    <tr>\n",
       "      <th>5</th>\n",
       "      <td>5</td>\n",
       "      <td>poinsettia yuletide eggnog fruitcake mistletoe...</td>\n",
       "    </tr>\n",
       "  </tbody>\n",
       "</table>\n",
       "</div>"
      ],
      "text/plain": [
       "   id                                               text\n",
       "0   0  reindeer mistletoe elf scrooge gingerbread chi...\n",
       "1   1  reindeer mistletoe elf scrooge gingerbread chi...\n",
       "2   2  magi yuletide cheer holiday gifts decorations ...\n",
       "3   3  ornament yuletide holiday the of decorations a...\n",
       "4   4  eggnog fruitcake chocolate poinsettia peppermi...\n",
       "5   5  poinsettia yuletide eggnog fruitcake mistletoe..."
      ]
     },
     "execution_count": 11,
     "metadata": {},
     "output_type": "execute_result"
    }
   ],
   "source": [
    "submission = pd.DataFrame(columns=['id', 'text'])\n",
    "scores = []\n",
    "\n",
    "# Process each sample\n",
    "for idx, row in df.iterrows():\n",
    "   print(f\"\\nProcessing sample {idx}...\")\n",
    "   optimized, score = simulated_annealing_optimize(row.text)\n",
    "   scores.append(score)\n",
    "   \n",
    "   # Add to submission dataframe\n",
    "   submission.loc[idx] = {\n",
    "       'id': row.id,\n",
    "       'text': optimized\n",
    "   }\n",
    "   print(\"-\" * 50)\n",
    "\n",
    "# Print summary statistics\n",
    "print(\"\\nScore Summary:\")\n",
    "print(f\"Submission mean score: {np.mean(scores):.2f}\")\n",
    "\n",
    "# Save to CSV\n",
    "submission.to_csv(\"submission_simulated_annealing.csv\", index=False)\n",
    "print(\"\\nSubmission file created!\")\n",
    "\n",
    "submission"
   ]
  },
  {
   "cell_type": "code",
   "execution_count": null,
   "metadata": {},
   "outputs": [],
   "source": []
  },
  {
   "cell_type": "code",
   "execution_count": null,
   "metadata": {},
   "outputs": [],
   "source": []
  }
 ],
 "metadata": {
  "kaggle": {
   "accelerator": "nvidiaTeslaT4",
   "dataSources": [
    {
     "databundleVersionId": 10229277,
     "sourceId": 88046,
     "sourceType": "competition"
    },
    {
     "datasetId": 6306987,
     "sourceId": 10205739,
     "sourceType": "datasetVersion"
    },
    {
     "sourceId": 209577560,
     "sourceType": "kernelVersion"
    },
    {
     "isSourceIdPinned": true,
     "modelId": 76277,
     "modelInstanceId": 72255,
     "sourceId": 104492,
     "sourceType": "modelInstanceVersion"
    }
   ],
   "dockerImageVersionId": 30804,
   "isGpuEnabled": true,
   "isInternetEnabled": true,
   "language": "python",
   "sourceType": "notebook"
  },
  "kernelspec": {
   "display_name": "Python 3 (ipykernel)",
   "language": "python",
   "name": "python3"
  },
  "language_info": {
   "codemirror_mode": {
    "name": "ipython",
    "version": 3
   },
   "file_extension": ".py",
   "mimetype": "text/x-python",
   "name": "python",
   "nbconvert_exporter": "python",
   "pygments_lexer": "ipython3",
   "version": "3.11.8"
  }
 },
 "nbformat": 4,
 "nbformat_minor": 4
}
