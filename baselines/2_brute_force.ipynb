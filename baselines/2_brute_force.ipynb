{
 "cells": [
  {
   "cell_type": "markdown",
   "metadata": {},
   "source": [
    "# Brute force\n",
    "Just check all permutations\\\n",
    "(+) can be found global optimum\\\n",
    "(-) need to check n! permutations -> too long; many resources needed"
   ]
  },
  {
   "cell_type": "code",
   "execution_count": 3,
   "metadata": {},
   "outputs": [],
   "source": [
    "import pandas as pd\n",
    "import numpy as np\n",
    "from tqdm import tqdm\n",
    "import numpy as np\n",
    "import random\n",
    "import time\n",
    "\n",
    "import itertools, math"
   ]
  },
  {
   "cell_type": "code",
   "execution_count": 2,
   "metadata": {
    "collapsed": false,
    "execution": {
     "iopub.execute_input": "2024-12-14T12:48:19.633816Z",
     "iopub.status.busy": "2024-12-14T12:48:19.633473Z",
     "iopub.status.idle": "2024-12-14T12:48:19.647768Z",
     "shell.execute_reply": "2024-12-14T12:48:19.647104Z",
     "shell.execute_reply.started": "2024-12-14T12:48:19.633790Z"
    },
    "jupyter": {
     "outputs_hidden": false
    }
   },
   "outputs": [],
   "source": [
    "df = pd.read_csv('/kaggle/input/santa-2024/sample_submission.csv')"
   ]
  },
  {
   "cell_type": "code",
   "execution_count": 3,
   "metadata": {
    "execution": {
     "iopub.execute_input": "2024-12-14T12:48:19.649290Z",
     "iopub.status.busy": "2024-12-14T12:48:19.648922Z",
     "iopub.status.idle": "2024-12-14T12:48:19.668649Z",
     "shell.execute_reply": "2024-12-14T12:48:19.667861Z",
     "shell.execute_reply.started": "2024-12-14T12:48:19.649236Z"
    }
   },
   "outputs": [
    {
     "data": {
      "text/html": [
       "<div>\n",
       "<style scoped>\n",
       "    .dataframe tbody tr th:only-of-type {\n",
       "        vertical-align: middle;\n",
       "    }\n",
       "\n",
       "    .dataframe tbody tr th {\n",
       "        vertical-align: top;\n",
       "    }\n",
       "\n",
       "    .dataframe thead th {\n",
       "        text-align: right;\n",
       "    }\n",
       "</style>\n",
       "<table border=\"1\" class=\"dataframe\">\n",
       "  <thead>\n",
       "    <tr style=\"text-align: right;\">\n",
       "      <th></th>\n",
       "      <th>id</th>\n",
       "      <th>text</th>\n",
       "    </tr>\n",
       "  </thead>\n",
       "  <tbody>\n",
       "    <tr>\n",
       "      <th>0</th>\n",
       "      <td>0</td>\n",
       "      <td>advent chimney elf family fireplace gingerbrea...</td>\n",
       "    </tr>\n",
       "    <tr>\n",
       "      <th>1</th>\n",
       "      <td>1</td>\n",
       "      <td>advent chimney elf family fireplace gingerbrea...</td>\n",
       "    </tr>\n",
       "    <tr>\n",
       "      <th>2</th>\n",
       "      <td>2</td>\n",
       "      <td>yuletide decorations gifts cheer holiday carol...</td>\n",
       "    </tr>\n",
       "    <tr>\n",
       "      <th>3</th>\n",
       "      <td>3</td>\n",
       "      <td>yuletide decorations gifts cheer holiday carol...</td>\n",
       "    </tr>\n",
       "    <tr>\n",
       "      <th>4</th>\n",
       "      <td>4</td>\n",
       "      <td>hohoho candle poinsettia snowglobe peppermint ...</td>\n",
       "    </tr>\n",
       "    <tr>\n",
       "      <th>5</th>\n",
       "      <td>5</td>\n",
       "      <td>advent chimney elf family fireplace gingerbrea...</td>\n",
       "    </tr>\n",
       "  </tbody>\n",
       "</table>\n",
       "</div>"
      ],
      "text/plain": [
       "   id                                               text\n",
       "0   0  advent chimney elf family fireplace gingerbrea...\n",
       "1   1  advent chimney elf family fireplace gingerbrea...\n",
       "2   2  yuletide decorations gifts cheer holiday carol...\n",
       "3   3  yuletide decorations gifts cheer holiday carol...\n",
       "4   4  hohoho candle poinsettia snowglobe peppermint ...\n",
       "5   5  advent chimney elf family fireplace gingerbrea..."
      ]
     },
     "execution_count": 3,
     "metadata": {},
     "output_type": "execute_result"
    }
   ],
   "source": [
    "df"
   ]
  },
  {
   "cell_type": "code",
   "execution_count": 6,
   "metadata": {
    "execution": {
     "iopub.execute_input": "2024-12-14T12:49:31.814268Z",
     "iopub.status.busy": "2024-12-14T12:49:31.813919Z",
     "iopub.status.idle": "2024-12-14T12:49:32.930487Z",
     "shell.execute_reply": "2024-12-14T12:49:32.929641Z",
     "shell.execute_reply.started": "2024-12-14T12:49:31.814225Z"
    }
   },
   "outputs": [
    {
     "data": {
      "text/plain": [
       "3628800"
      ]
     },
     "execution_count": 6,
     "metadata": {},
     "output_type": "execute_result"
    }
   ],
   "source": [
    "words = df.loc[0,\"text\"].split()\n",
    "all_permutations = list( itertools.permutations(words) )[::-1]\n",
    "len(all_permutations)"
   ]
  },
  {
   "cell_type": "code",
   "execution_count": 7,
   "metadata": {
    "execution": {
     "iopub.execute_input": "2024-12-14T12:49:37.457214Z",
     "iopub.status.busy": "2024-12-14T12:49:37.456688Z",
     "iopub.status.idle": "2024-12-14T12:52:39.186618Z",
     "shell.execute_reply": "2024-12-14T12:52:39.185845Z",
     "shell.execute_reply.started": "2024-12-14T12:49:37.457181Z"
    }
   },
   "outputs": [
    {
     "data": {
      "application/vnd.jupyter.widget-view+json": {
       "model_id": "ec41151978714140a5f5df6282ffb809",
       "version_major": 2,
       "version_minor": 0
      },
      "text/plain": [
       "Loading checkpoint shards:   0%|          | 0/8 [00:00<?, ?it/s]"
      ]
     },
     "metadata": {},
     "output_type": "display_data"
    }
   ],
   "source": [
    "from metric import PerplexityCalculator\n",
    "scorer = PerplexityCalculator('/kaggle/input/gemma-2/transformers/gemma-2-9b/2')"
   ]
  },
  {
   "cell_type": "markdown",
   "metadata": {},
   "source": [
    "Stop algorithm after 2 hours of work (because it can work too long time)"
   ]
  },
  {
   "cell_type": "code",
   "execution_count": 10,
   "metadata": {
    "execution": {
     "iopub.execute_input": "2024-12-14T12:54:41.005872Z",
     "iopub.status.busy": "2024-12-14T12:54:41.005525Z",
     "iopub.status.idle": "2024-12-14T14:54:42.493824Z",
     "shell.execute_reply": "2024-12-14T14:54:42.492941Z",
     "shell.execute_reply.started": "2024-12-14T12:54:41.005842Z"
    }
   },
   "outputs": [
    {
     "name": "stdout",
     "output_type": "stream",
     "text": [
      "Completed computing 0 perplexities.\n",
      "New best = 2258.9519595596075 with 'scrooge reindeer ornament mistletoe gingerbread family advent fireplace chimney elf'\n",
      "New best = 2064.849249361922 with 'scrooge reindeer ornament mistletoe elf gingerbread family advent fireplace chimney'\n",
      "New best = 1978.0044264076564 with 'scrooge reindeer ornament gingerbread family advent fireplace chimney elf mistletoe'\n",
      "New best = 1843.7028557527542 with 'scrooge reindeer mistletoe ornament gingerbread family advent fireplace chimney elf'\n",
      "New best = 1759.2735550257069 with 'scrooge reindeer mistletoe gingerbread ornament family advent fireplace chimney elf'\n",
      "New best = 1665.646724298566 with 'scrooge reindeer mistletoe gingerbread fireplace chimney elf advent family ornament'\n",
      "New best = 1583.1748363626543 with 'scrooge reindeer mistletoe gingerbread family elf chimney fireplace advent ornament'\n",
      "New best = 1464.1973685237601 with 'scrooge reindeer mistletoe gingerbread family advent fireplace chimney elf ornament'\n",
      "New best = 1419.1487514060357 with 'scrooge reindeer mistletoe gingerbread elf chimney fireplace advent family ornament'\n",
      "New best = 1413.6160147573594 with 'scrooge reindeer mistletoe elf gingerbread ornament family advent fireplace chimney'\n",
      "New best = 1375.486134528337 with 'scrooge reindeer mistletoe elf gingerbread chimney fireplace advent family ornament'\n",
      "Completed computing 10000 perplexities.\n",
      "Completed computing 20000 perplexities.\n",
      "Completed computing 30000 perplexities.\n",
      "Completed computing 40000 perplexities.\n",
      "Completed computing 50000 perplexities.\n",
      "Completed computing 60000 perplexities.\n",
      "Stopping because the time limit of 2 hours was exceeded.\n",
      "Done.\n"
     ]
    }
   ],
   "source": [
    "PERM_CT = math.factorial(10)\n",
    "BATCH_SIZE = 64\n",
    "TIME_LIMIT = 2 * 60 * 60  # 2 hours in seconds\n",
    "\n",
    "best_score = 1e6\n",
    "best_text = \"\"\n",
    "\n",
    "perms = []\n",
    "\n",
    "start_time = time.time()  # Record the start time\n",
    "\n",
    "for i, p in enumerate(all_permutations):\n",
    "    perms.append(\" \".join(p))\n",
    "    if (len(perms) == BATCH_SIZE) or (i == PERM_CT - 1): \n",
    "        p = scorer.get_perplexity(perms)\n",
    "        if np.min(p) < best_score:\n",
    "            best_score = np.min(p)\n",
    "            best_text = perms[np.argmin(p)]\n",
    "            print(f\"New best = {best_score} with '{best_text}'\")\n",
    "        perms = []\n",
    "    if i % 10_000 == 0: \n",
    "        print(f\"Completed computing {i} perplexities.\")\n",
    "    if best_score < 475: \n",
    "        print(\"Stopping early because we found optimal!\")\n",
    "        break\n",
    "    \n",
    "    # if elapsed time exceeds 2 hours -> break\n",
    "    elapsed_time = time.time() - start_time\n",
    "    if elapsed_time > TIME_LIMIT:\n",
    "        print(\"Stopping because the time limit of 2 hours was exceeded.\")\n",
    "        break\n",
    "\n",
    "print(\"Done.\")"
   ]
  },
  {
   "cell_type": "code",
   "execution_count": 13,
   "metadata": {
    "execution": {
     "iopub.execute_input": "2024-12-14T14:55:43.472895Z",
     "iopub.status.busy": "2024-12-14T14:55:43.472567Z",
     "iopub.status.idle": "2024-12-14T14:55:43.479114Z",
     "shell.execute_reply": "2024-12-14T14:55:43.478309Z",
     "shell.execute_reply.started": "2024-12-14T14:55:43.472867Z"
    }
   },
   "outputs": [
    {
     "data": {
      "text/plain": [
       "('scrooge reindeer mistletoe elf gingerbread chimney fireplace advent family ornament',\n",
       " 1375.486134528337)"
      ]
     },
     "execution_count": 13,
     "metadata": {},
     "output_type": "execute_result"
    }
   ],
   "source": [
    "df.loc[0,\"text\"] = best_text\n",
    "best_text, best_score"
   ]
  },
  {
   "cell_type": "code",
   "execution_count": null,
   "metadata": {},
   "outputs": [],
   "source": []
  }
 ],
 "metadata": {
  "kaggle": {
   "accelerator": "nvidiaTeslaT4",
   "dataSources": [
    {
     "databundleVersionId": 10229277,
     "sourceId": 88046,
     "sourceType": "competition"
    },
    {
     "sourceId": 209577560,
     "sourceType": "kernelVersion"
    },
    {
     "isSourceIdPinned": true,
     "modelId": 76277,
     "modelInstanceId": 72255,
     "sourceId": 104492,
     "sourceType": "modelInstanceVersion"
    }
   ],
   "dockerImageVersionId": 30804,
   "isGpuEnabled": true,
   "isInternetEnabled": true,
   "language": "python",
   "sourceType": "notebook"
  },
  "kernelspec": {
   "display_name": "Python 3 (ipykernel)",
   "language": "python",
   "name": "python3"
  },
  "language_info": {
   "codemirror_mode": {
    "name": "ipython",
    "version": 3
   },
   "file_extension": ".py",
   "mimetype": "text/x-python",
   "name": "python",
   "nbconvert_exporter": "python",
   "pygments_lexer": "ipython3",
   "version": "3.11.8"
  }
 },
 "nbformat": 4,
 "nbformat_minor": 4
}
