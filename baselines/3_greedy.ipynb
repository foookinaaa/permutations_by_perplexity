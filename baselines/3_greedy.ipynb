{
 "cells": [
  {
   "cell_type": "markdown",
   "metadata": {},
   "source": [
    "# Greedy search\n",
    "On each step found the world with lowest perplexity\\\n",
    "(+) faster than brute force\\\n",
    "(-) can be found local optimum, not global optimum, because if the world best on this step that it's not guarantee that the combination of n worlds is the best"
   ]
  },
  {
   "cell_type": "code",
   "execution_count": 1,
   "metadata": {},
   "outputs": [],
   "source": [
    "import pandas as pd\n",
    "import numpy as np\n",
    "from tqdm import tqdm\n",
    "import numpy as np\n",
    "import random\n",
    "import time"
   ]
  },
  {
   "cell_type": "code",
   "execution_count": 2,
   "metadata": {
    "collapsed": false,
    "execution": {
     "iopub.execute_input": "2024-12-14T15:02:03.854398Z",
     "iopub.status.busy": "2024-12-14T15:02:03.854013Z",
     "iopub.status.idle": "2024-12-14T15:02:03.869218Z",
     "shell.execute_reply": "2024-12-14T15:02:03.868138Z",
     "shell.execute_reply.started": "2024-12-14T15:02:03.854369Z"
    },
    "jupyter": {
     "outputs_hidden": false
    }
   },
   "outputs": [],
   "source": [
    "df = pd.read_csv('/kaggle/input/santa-2024/sample_submission.csv')"
   ]
  },
  {
   "cell_type": "code",
   "execution_count": 3,
   "metadata": {
    "execution": {
     "iopub.execute_input": "2024-12-14T15:02:03.870819Z",
     "iopub.status.busy": "2024-12-14T15:02:03.870473Z",
     "iopub.status.idle": "2024-12-14T15:02:03.887775Z",
     "shell.execute_reply": "2024-12-14T15:02:03.886971Z",
     "shell.execute_reply.started": "2024-12-14T15:02:03.870773Z"
    }
   },
   "outputs": [
    {
     "data": {
      "text/html": [
       "<div>\n",
       "<style scoped>\n",
       "    .dataframe tbody tr th:only-of-type {\n",
       "        vertical-align: middle;\n",
       "    }\n",
       "\n",
       "    .dataframe tbody tr th {\n",
       "        vertical-align: top;\n",
       "    }\n",
       "\n",
       "    .dataframe thead th {\n",
       "        text-align: right;\n",
       "    }\n",
       "</style>\n",
       "<table border=\"1\" class=\"dataframe\">\n",
       "  <thead>\n",
       "    <tr style=\"text-align: right;\">\n",
       "      <th></th>\n",
       "      <th>id</th>\n",
       "      <th>text</th>\n",
       "    </tr>\n",
       "  </thead>\n",
       "  <tbody>\n",
       "    <tr>\n",
       "      <th>0</th>\n",
       "      <td>0</td>\n",
       "      <td>advent chimney elf family fireplace gingerbrea...</td>\n",
       "    </tr>\n",
       "    <tr>\n",
       "      <th>1</th>\n",
       "      <td>1</td>\n",
       "      <td>advent chimney elf family fireplace gingerbrea...</td>\n",
       "    </tr>\n",
       "    <tr>\n",
       "      <th>2</th>\n",
       "      <td>2</td>\n",
       "      <td>yuletide decorations gifts cheer holiday carol...</td>\n",
       "    </tr>\n",
       "    <tr>\n",
       "      <th>3</th>\n",
       "      <td>3</td>\n",
       "      <td>yuletide decorations gifts cheer holiday carol...</td>\n",
       "    </tr>\n",
       "    <tr>\n",
       "      <th>4</th>\n",
       "      <td>4</td>\n",
       "      <td>hohoho candle poinsettia snowglobe peppermint ...</td>\n",
       "    </tr>\n",
       "    <tr>\n",
       "      <th>5</th>\n",
       "      <td>5</td>\n",
       "      <td>advent chimney elf family fireplace gingerbrea...</td>\n",
       "    </tr>\n",
       "  </tbody>\n",
       "</table>\n",
       "</div>"
      ],
      "text/plain": [
       "   id                                               text\n",
       "0   0  advent chimney elf family fireplace gingerbrea...\n",
       "1   1  advent chimney elf family fireplace gingerbrea...\n",
       "2   2  yuletide decorations gifts cheer holiday carol...\n",
       "3   3  yuletide decorations gifts cheer holiday carol...\n",
       "4   4  hohoho candle poinsettia snowglobe peppermint ...\n",
       "5   5  advent chimney elf family fireplace gingerbrea..."
      ]
     },
     "execution_count": 3,
     "metadata": {},
     "output_type": "execute_result"
    }
   ],
   "source": [
    "df"
   ]
  },
  {
   "cell_type": "code",
   "execution_count": 4,
   "metadata": {
    "execution": {
     "iopub.execute_input": "2024-12-14T15:02:03.889959Z",
     "iopub.status.busy": "2024-12-14T15:02:03.889331Z",
     "iopub.status.idle": "2024-12-14T15:05:04.795196Z",
     "shell.execute_reply": "2024-12-14T15:05:04.794250Z",
     "shell.execute_reply.started": "2024-12-14T15:02:03.889931Z"
    }
   },
   "outputs": [
    {
     "data": {
      "application/vnd.jupyter.widget-view+json": {
       "model_id": "34c95f55cb264e7c90713fbd0c9b9e5a",
       "version_major": 2,
       "version_minor": 0
      },
      "text/plain": [
       "Loading checkpoint shards:   0%|          | 0/8 [00:00<?, ?it/s]"
      ]
     },
     "metadata": {},
     "output_type": "display_data"
    }
   ],
   "source": [
    "from metric import PerplexityCalculator\n",
    "scorer = PerplexityCalculator('/kaggle/input/gemma-2/transformers/gemma-2-9b/2')"
   ]
  },
  {
   "cell_type": "code",
   "execution_count": 6,
   "metadata": {
    "execution": {
     "iopub.execute_input": "2024-12-14T15:06:48.618890Z",
     "iopub.status.busy": "2024-12-14T15:06:48.618273Z",
     "iopub.status.idle": "2024-12-14T15:21:16.961920Z",
     "shell.execute_reply": "2024-12-14T15:21:16.960998Z",
     "shell.execute_reply.started": "2024-12-14T15:06:48.618857Z"
    }
   },
   "outputs": [
    {
     "name": "stdout",
     "output_type": "stream",
     "text": [
      "Sample 0: perplexity=1327.97\n",
      "scrooge mistletoe ornament family advent fireplace chimney elf reindeer gingerbread\n",
      "Time elapsed for Sample 0: 6.66 seconds\n",
      "Sample 1: perplexity=2017.02\n",
      "scrooge mistletoe ornament and reindeer family advent fireplace chimney elf night sleep gingerbread bake the walk laugh give jump drive\n",
      "Time elapsed for Sample 1: 29.26 seconds\n",
      "Sample 2: perplexity=967.78\n",
      "yuletide gifts grinch ornament nutcracker decorations holiday stocking holly jingle sleigh carol cheer chimney naughty nice beard workshop polar magi\n",
      "Time elapsed for Sample 2: 51.81 seconds\n",
      "Sample 3: perplexity=762.59\n",
      "yuletide gifts unwrap holiday cheer the nutcracker and grinch decorations ornament stocking holly jingle sleigh carol sing cheer chimney visit naughty nice beard eat relax polar workshop of is magi\n",
      "Time elapsed for Sample 3: 103.10 seconds\n",
      "Sample 4: perplexity=283.85\n",
      "eggnog fruitcake poinsettia snowglobe wreath candle cookie star candy peppermint chocolate milk hohoho merry and joy peace hope angel wish dream believe wonder night season greeting card paper wrapping bow toy doll game puzzle fireplace to the from of you we with in it that have not as workshop kaggle\n",
      "Time elapsed for Sample 4: 248.64 seconds\n",
      "Sample 5: perplexity=128.94\n",
      "eggnog yuletide poinsettia mistletoe fruitcake scrooge nutcracker snowglobe holly wreath gingerbread cookie peppermint candy sleigh reindeer elf stocking ornament carol candle star angel ornament holiday season joy peace cheer merry jingle gifts family cheer decorations fireplace fireplace chimney chimney hohoho advent card greeting wish hope dream believe wonder night night of the magi the grinch the polar is it you that sing to give unwrap wrapping paper bow toy doll game puzzle jump in and laugh with and and of we have not as from sleep walk eat chocolate milk bake relax visit drive nice naughty beard workshop workshop kaggle\n",
      "Time elapsed for Sample 5: 868.34 seconds\n"
     ]
    }
   ],
   "source": [
    "start_time = time.time()\n",
    "for idx, text in enumerate(df[\"text\"].to_list()):\n",
    "    words = text.split()\n",
    "    greedy_text = \"\"\n",
    "    \n",
    "    # Iteratively add the word resulting in minimum perplexity\n",
    "    while len(words):\n",
    "        input_texts = [(greedy_text + \" \" + word).strip() for word in words]\n",
    "        perplexities = scorer.get_perplexity(input_texts)\n",
    "        greedy_text = (greedy_text + \" \" + words.pop(np.argmin(perplexities))).strip()\n",
    "    \n",
    "    print(f\"Sample {idx}: perplexity={perplexities[0]:.2f}\")\n",
    "    print(greedy_text)\n",
    "    df.loc[idx, \"greedy_text\"] = greedy_text\n",
    "    elapsed_time = time.time() - start_time\n",
    "    print(f\"Time elapsed for Sample {idx}: {elapsed_time:.2f} seconds\")"
   ]
  },
  {
   "cell_type": "code",
   "execution_count": 8,
   "metadata": {
    "execution": {
     "iopub.execute_input": "2024-12-14T15:22:17.072061Z",
     "iopub.status.busy": "2024-12-14T15:22:17.071672Z",
     "iopub.status.idle": "2024-12-14T15:22:17.104815Z",
     "shell.execute_reply": "2024-12-14T15:22:17.103973Z",
     "shell.execute_reply.started": "2024-12-14T15:22:17.072030Z"
    }
   },
   "outputs": [
    {
     "name": "stdout",
     "output_type": "stream",
     "text": [
      "submission created\n"
     ]
    }
   ],
   "source": [
    "submission = pd.DataFrame(columns=['id', 'text'])\n",
    "\n",
    "for idx, row in df.iterrows():\n",
    "\n",
    "    id = row.id\n",
    "    optimized_text = row.greedy_text\n",
    "\n",
    "    submission.loc[idx] = {\n",
    "        'id': id,\n",
    "        'text': optimized_text\n",
    "    }\n",
    "\n",
    "submission.to_csv(\"submission_greedy.csv\", index=False)\n",
    "\n",
    "print('submission created')"
   ]
  },
  {
   "cell_type": "code",
   "execution_count": null,
   "metadata": {},
   "outputs": [],
   "source": []
  },
  {
   "cell_type": "code",
   "execution_count": null,
   "metadata": {},
   "outputs": [],
   "source": []
  }
 ],
 "metadata": {
  "kaggle": {
   "accelerator": "nvidiaTeslaT4",
   "dataSources": [
    {
     "databundleVersionId": 10229277,
     "sourceId": 88046,
     "sourceType": "competition"
    },
    {
     "sourceId": 209577560,
     "sourceType": "kernelVersion"
    },
    {
     "isSourceIdPinned": true,
     "modelId": 76277,
     "modelInstanceId": 72255,
     "sourceId": 104492,
     "sourceType": "modelInstanceVersion"
    }
   ],
   "dockerImageVersionId": 30804,
   "isGpuEnabled": true,
   "isInternetEnabled": true,
   "language": "python",
   "sourceType": "notebook"
  },
  "kernelspec": {
   "display_name": "Python 3 (ipykernel)",
   "language": "python",
   "name": "python3"
  },
  "language_info": {
   "codemirror_mode": {
    "name": "ipython",
    "version": 3
   },
   "file_extension": ".py",
   "mimetype": "text/x-python",
   "name": "python",
   "nbconvert_exporter": "python",
   "pygments_lexer": "ipython3",
   "version": "3.11.8"
  }
 },
 "nbformat": 4,
 "nbformat_minor": 4
}
