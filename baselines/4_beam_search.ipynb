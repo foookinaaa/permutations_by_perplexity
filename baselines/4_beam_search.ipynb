{
 "cells": [
  {
   "cell_type": "markdown",
   "metadata": {},
   "source": [
    "# Beam search\n",
    "On each step choose k best worlds with lower perplexity - can be k different strategies in one time, that helps not to stuck in local optimum.\\\n",
    "(+) less probability to find local optimum, instead of global optimum, than for greedy approach\\\n",
    "(-) time and resource consuming - you need to score and keep now words for k different strategies"
   ]
  },
  {
   "cell_type": "code",
   "execution_count": 1,
   "metadata": {},
   "outputs": [],
   "source": [
    "import pandas as pd\n",
    "import numpy as np\n",
    "from tqdm import tqdm\n",
    "import numpy as np\n",
    "import random\n",
    "import time"
   ]
  },
  {
   "cell_type": "code",
   "execution_count": 2,
   "metadata": {
    "collapsed": false,
    "execution": {
     "iopub.execute_input": "2024-12-14T16:12:21.593430Z",
     "iopub.status.busy": "2024-12-14T16:12:21.592988Z",
     "iopub.status.idle": "2024-12-14T16:12:21.607009Z",
     "shell.execute_reply": "2024-12-14T16:12:21.606356Z",
     "shell.execute_reply.started": "2024-12-14T16:12:21.593391Z"
    },
    "jupyter": {
     "outputs_hidden": false
    }
   },
   "outputs": [],
   "source": [
    "df = pd.read_csv('/kaggle/input/santa-2024/sample_submission.csv')"
   ]
  },
  {
   "cell_type": "code",
   "execution_count": 3,
   "metadata": {
    "execution": {
     "iopub.execute_input": "2024-12-14T16:12:21.608192Z",
     "iopub.status.busy": "2024-12-14T16:12:21.607901Z",
     "iopub.status.idle": "2024-12-14T16:12:21.622571Z",
     "shell.execute_reply": "2024-12-14T16:12:21.621524Z",
     "shell.execute_reply.started": "2024-12-14T16:12:21.608166Z"
    }
   },
   "outputs": [
    {
     "data": {
      "text/html": [
       "<div>\n",
       "<style scoped>\n",
       "    .dataframe tbody tr th:only-of-type {\n",
       "        vertical-align: middle;\n",
       "    }\n",
       "\n",
       "    .dataframe tbody tr th {\n",
       "        vertical-align: top;\n",
       "    }\n",
       "\n",
       "    .dataframe thead th {\n",
       "        text-align: right;\n",
       "    }\n",
       "</style>\n",
       "<table border=\"1\" class=\"dataframe\">\n",
       "  <thead>\n",
       "    <tr style=\"text-align: right;\">\n",
       "      <th></th>\n",
       "      <th>id</th>\n",
       "      <th>text</th>\n",
       "    </tr>\n",
       "  </thead>\n",
       "  <tbody>\n",
       "    <tr>\n",
       "      <th>0</th>\n",
       "      <td>0</td>\n",
       "      <td>advent chimney elf family fireplace gingerbrea...</td>\n",
       "    </tr>\n",
       "    <tr>\n",
       "      <th>1</th>\n",
       "      <td>1</td>\n",
       "      <td>advent chimney elf family fireplace gingerbrea...</td>\n",
       "    </tr>\n",
       "    <tr>\n",
       "      <th>2</th>\n",
       "      <td>2</td>\n",
       "      <td>yuletide decorations gifts cheer holiday carol...</td>\n",
       "    </tr>\n",
       "    <tr>\n",
       "      <th>3</th>\n",
       "      <td>3</td>\n",
       "      <td>yuletide decorations gifts cheer holiday carol...</td>\n",
       "    </tr>\n",
       "    <tr>\n",
       "      <th>4</th>\n",
       "      <td>4</td>\n",
       "      <td>hohoho candle poinsettia snowglobe peppermint ...</td>\n",
       "    </tr>\n",
       "    <tr>\n",
       "      <th>5</th>\n",
       "      <td>5</td>\n",
       "      <td>advent chimney elf family fireplace gingerbrea...</td>\n",
       "    </tr>\n",
       "  </tbody>\n",
       "</table>\n",
       "</div>"
      ],
      "text/plain": [
       "   id                                               text\n",
       "0   0  advent chimney elf family fireplace gingerbrea...\n",
       "1   1  advent chimney elf family fireplace gingerbrea...\n",
       "2   2  yuletide decorations gifts cheer holiday carol...\n",
       "3   3  yuletide decorations gifts cheer holiday carol...\n",
       "4   4  hohoho candle poinsettia snowglobe peppermint ...\n",
       "5   5  advent chimney elf family fireplace gingerbrea..."
      ]
     },
     "execution_count": 3,
     "metadata": {},
     "output_type": "execute_result"
    }
   ],
   "source": [
    "df"
   ]
  },
  {
   "cell_type": "code",
   "execution_count": 4,
   "metadata": {
    "execution": {
     "iopub.execute_input": "2024-12-14T16:12:21.625089Z",
     "iopub.status.busy": "2024-12-14T16:12:21.624491Z",
     "iopub.status.idle": "2024-12-14T16:15:11.860850Z",
     "shell.execute_reply": "2024-12-14T16:15:11.860149Z",
     "shell.execute_reply.started": "2024-12-14T16:12:21.625052Z"
    }
   },
   "outputs": [
    {
     "data": {
      "application/vnd.jupyter.widget-view+json": {
       "model_id": "78fc897484f24469aa831e78c1a941c3",
       "version_major": 2,
       "version_minor": 0
      },
      "text/plain": [
       "Loading checkpoint shards:   0%|          | 0/8 [00:00<?, ?it/s]"
      ]
     },
     "metadata": {},
     "output_type": "display_data"
    }
   ],
   "source": [
    "from metric import PerplexityCalculator\n",
    "scorer = PerplexityCalculator('/kaggle/input/gemma-2/transformers/gemma-2-9b/2')"
   ]
  },
  {
   "cell_type": "markdown",
   "metadata": {},
   "source": [
    "This code has an error, so it stopped after 3 rows were scored"
   ]
  },
  {
   "cell_type": "code",
   "execution_count": 7,
   "metadata": {
    "execution": {
     "iopub.execute_input": "2024-12-14T16:18:27.616869Z",
     "iopub.status.busy": "2024-12-14T16:18:27.616001Z",
     "iopub.status.idle": "2024-12-14T17:35:11.762641Z",
     "shell.execute_reply": "2024-12-14T17:35:11.761428Z",
     "shell.execute_reply.started": "2024-12-14T16:18:27.616835Z"
    }
   },
   "outputs": [
    {
     "name": "stdout",
     "output_type": "stream",
     "text": [
      "text 0\n",
      "Attempt 1/5\n",
      "Attempt 2/5\n",
      "Attempt 3/5\n",
      "Attempt 4/5\n",
      "Attempt 5/5\n",
      "Best score: 515.9932840552193 Best candidate: reindeer mistletoe scrooge elf gingerbread chimney fireplace ornament family advent (Length match: True)\n",
      "text 1\n",
      "Attempt 1/5\n",
      "Attempt 2/5\n",
      "Attempt 3/5\n",
      "Attempt 4/5\n",
      "Attempt 5/5\n",
      "Best score: 598.5626811957673 Best candidate: reindeer mistletoe elf scrooge gingerbread chimney fireplace ornament advent family night sleep walk laugh jump bake drive give and the (Length match: True)\n",
      "text 2\n",
      "Attempt 1/5\n",
      "Attempt 2/5\n",
      "Attempt 3/5\n",
      "Attempt 4/5\n",
      "Attempt 5/5\n",
      "Best score: 526.170339675385 Best candidate: nutcracker yuletide grinch gifts holiday decorations ornament stocking holly jingle sleigh carol naughty nice polar beard workshop chimney cheer magi (Length match: True)\n",
      "text 3\n",
      "Attempt 1/5\n",
      "Attempt 2/5\n",
      "Attempt 3/5\n",
      "Attempt 4/5\n",
      "Attempt 5/5\n"
     ]
    },
    {
     "ename": "ValueError",
     "evalue": "min() arg is an empty sequence",
     "output_type": "error",
     "traceback": [
      "\u001b[0;31m---------------------------------------------------------------------------\u001b[0m",
      "\u001b[0;31mValueError\u001b[0m                                Traceback (most recent call last)",
      "Cell \u001b[0;32mIn[7], line 39\u001b[0m\n\u001b[1;32m     36\u001b[0m     all_candidate_scores\u001b[38;5;241m.\u001b[39mupdate(candidate_scores)\n\u001b[1;32m     38\u001b[0m \u001b[38;5;66;03m# Select the best candidate across all attempts\u001b[39;00m\n\u001b[0;32m---> 39\u001b[0m best_candidate, best_score \u001b[38;5;241m=\u001b[39m \u001b[38;5;28;43mmin\u001b[39;49m\u001b[43m(\u001b[49m\u001b[43mall_candidate_scores\u001b[49m\u001b[38;5;241;43m.\u001b[39;49m\u001b[43mitems\u001b[49m\u001b[43m(\u001b[49m\u001b[43m)\u001b[49m\u001b[43m,\u001b[49m\u001b[43m \u001b[49m\u001b[43mkey\u001b[49m\u001b[38;5;241;43m=\u001b[39;49m\u001b[38;5;28;43;01mlambda\u001b[39;49;00m\u001b[43m \u001b[49m\u001b[43mx\u001b[49m\u001b[43m:\u001b[49m\u001b[43m \u001b[49m\u001b[43mx\u001b[49m\u001b[43m[\u001b[49m\u001b[38;5;241;43m1\u001b[39;49m\u001b[43m]\u001b[49m\u001b[43m)\u001b[49m\n\u001b[1;32m     40\u001b[0m df\u001b[38;5;241m.\u001b[39mloc[idx, \u001b[38;5;124m\"\u001b[39m\u001b[38;5;124mbeam_greedy_text\u001b[39m\u001b[38;5;124m\"\u001b[39m] \u001b[38;5;241m=\u001b[39m best_candidate\u001b[38;5;241m.\u001b[39mstrip()\n\u001b[1;32m     42\u001b[0m \u001b[38;5;66;03m# Debugging and validation\u001b[39;00m\n",
      "\u001b[0;31mValueError\u001b[0m: min() arg is an empty sequence"
     ]
    }
   ],
   "source": [
    "tries = 5\n",
    "beam_size = 10\n",
    "\n",
    "for idx, text in enumerate(df[\"text\"].to_list()):\n",
    "    words = text.split()\n",
    "    print('text', idx)    \n",
    "    all_candidate_scores = {}\n",
    "    for attempt in range(tries):\n",
    "        print(f\"Attempt {attempt + 1}/{tries}\")\n",
    "        if attempt == 0:\n",
    "            # Begin with words having the best perplexity (limited to beam_size)\n",
    "            initial_perplexities = scorer.get_perplexity(words)\n",
    "            candidates = [words[i] for i in np.argsort(initial_perplexities)[:beam_size]]\n",
    "        else:\n",
    "            # Randomly select beam_size candidates from the unique word set\n",
    "            candidates = np.random.choice(list(set(words)), beam_size, replace=False)\n",
    "        \n",
    "        # Iteratively build candidates by minimizing perplexity\n",
    "        for step in range(len(words) - 1):\n",
    "            candidate_scores = {}\n",
    "            \n",
    "            for candidate in candidates:\n",
    "                used_words = candidate.split()\n",
    "                remaining_words = [word for word in words if word not in used_words]\n",
    "                \n",
    "                input_texts = [(candidate + \" \" + word).strip() for word in remaining_words]\n",
    "                perplexities = scorer.get_perplexity(input_texts)\n",
    "                \n",
    "                # Store perplexity scores for each candidate text\n",
    "                candidate_scores.update({text: score for text, score in zip(input_texts, perplexities)})\n",
    "            \n",
    "            # Select the top beam_size candidates with the lowest perplexities\n",
    "            candidates = sorted(candidate_scores, key=candidate_scores.get)[:beam_size]\n",
    "        \n",
    "        # Store scores from this attempt\n",
    "        all_candidate_scores.update(candidate_scores)\n",
    "    \n",
    "    # Select the best candidate across all attempts\n",
    "    best_candidate, best_score = min(all_candidate_scores.items(), key=lambda x: x[1])\n",
    "    df.loc[idx, \"beam_greedy_text\"] = best_candidate.strip()\n",
    "    \n",
    "    # Debugging and validation\n",
    "    is_length_match = len(best_candidate.strip()) == len(text)\n",
    "    print(f\"Best score: {best_score} Best candidate: {best_candidate} (Length match: {is_length_match})\")"
   ]
  },
  {
   "cell_type": "markdown",
   "metadata": {},
   "source": [
    "Thes code is working good, but i stop this on 5th row after 1st attempt, because it was working 2 hours on attempt"
   ]
  },
  {
   "cell_type": "code",
   "execution_count": 23,
   "metadata": {
    "execution": {
     "iopub.execute_input": "2024-12-14T18:00:46.681289Z",
     "iopub.status.busy": "2024-12-14T18:00:46.680569Z",
     "iopub.status.idle": "2024-12-14T22:24:22.716278Z",
     "shell.execute_reply": "2024-12-14T22:24:22.715042Z",
     "shell.execute_reply.started": "2024-12-14T18:00:46.681249Z"
    }
   },
   "outputs": [
    {
     "name": "stdout",
     "output_type": "stream",
     "text": [
      "text 3\n",
      "Tries: 1\n",
      "Tries: 2\n",
      "Tries: 3\n",
      "Tries: 4\n",
      "Tries: 5\n",
      "('ornament yuletide of the holiday decorations and gifts is unwrap stocking holly jingle sleigh nutcracker carol sing cheer cheer grinch naughty nice chimney visit polar beard workshop eat relax magi', 386.4611130887752) (Length match: True)\n",
      "text 4\n",
      "Tries: 1\n",
      "Tries: 2\n",
      "Tries: 3\n",
      "Tries: 4\n",
      "Tries: 5\n",
      "('eggnog fruitcake chocolate poinsettia peppermint candy wreath snowglobe star angel candle cookie milk and the season of peace joy hope wish dream believe in wonder merry hohoho to you from we have it with wrapping paper bow greeting card toy doll game night puzzle fireplace that not as kaggle workshop', 204.44776193681219) (Length match: True)\n",
      "text 5\n",
      "Tries: 1\n",
      "Tries: 2\n"
     ]
    },
    {
     "ename": "KeyboardInterrupt",
     "evalue": "",
     "output_type": "error",
     "traceback": [
      "\u001b[0;31m---------------------------------------------------------------------------\u001b[0m",
      "\u001b[0;31mKeyboardInterrupt\u001b[0m                         Traceback (most recent call last)",
      "Cell \u001b[0;32mIn[23], line 23\u001b[0m\n\u001b[1;32m     21\u001b[0m     remaining_words\u001b[38;5;241m.\u001b[39mremove(word)\n\u001b[1;32m     22\u001b[0m input_texts \u001b[38;5;241m=\u001b[39m [(candidate \u001b[38;5;241m+\u001b[39m \u001b[38;5;124m\"\u001b[39m\u001b[38;5;124m \u001b[39m\u001b[38;5;124m\"\u001b[39m \u001b[38;5;241m+\u001b[39m word)\u001b[38;5;241m.\u001b[39mstrip() \u001b[38;5;28;01mfor\u001b[39;00m word \u001b[38;5;129;01min\u001b[39;00m remaining_words]\n\u001b[0;32m---> 23\u001b[0m perplexities \u001b[38;5;241m=\u001b[39m \u001b[43mscorer\u001b[49m\u001b[38;5;241;43m.\u001b[39;49m\u001b[43mget_perplexity\u001b[49m\u001b[43m(\u001b[49m\u001b[43minput_texts\u001b[49m\u001b[43m)\u001b[49m\n\u001b[1;32m     24\u001b[0m \u001b[38;5;28;01mfor\u001b[39;00m input_text, ppl \u001b[38;5;129;01min\u001b[39;00m \u001b[38;5;28mzip\u001b[39m(input_texts, perplexities):\n\u001b[1;32m     25\u001b[0m     candidate2score[input_text] \u001b[38;5;241m=\u001b[39m ppl\n",
      "File \u001b[0;32m/kaggle/usr/lib/santa-2024-metric/metric.py:251\u001b[0m, in \u001b[0;36mPerplexityCalculator.get_perplexity\u001b[0;34m(self, input_texts, debug)\u001b[0m\n\u001b[1;32m    249\u001b[0m \u001b[38;5;66;03m# Calculate average loss\u001b[39;00m\n\u001b[1;32m    250\u001b[0m sequence_loss \u001b[38;5;241m=\u001b[39m loss\u001b[38;5;241m.\u001b[39msum() \u001b[38;5;241m/\u001b[39m \u001b[38;5;28mlen\u001b[39m(loss)\n\u001b[0;32m--> 251\u001b[0m loss_list\u001b[38;5;241m.\u001b[39mappend(\u001b[43msequence_loss\u001b[49m\u001b[38;5;241;43m.\u001b[39;49m\u001b[43mcpu\u001b[49m\u001b[43m(\u001b[49m\u001b[43m)\u001b[49m\u001b[38;5;241m.\u001b[39mitem())\n\u001b[1;32m    253\u001b[0m \u001b[38;5;66;03m# Debug output\u001b[39;00m\n\u001b[1;32m    254\u001b[0m \u001b[38;5;28;01mif\u001b[39;00m debug:\n",
      "\u001b[0;31mKeyboardInterrupt\u001b[0m: "
     ]
    }
   ],
   "source": [
    "tries = 5\n",
    "beam_size = 10\n",
    "\n",
    "for idx, text in enumerate(df[\"text\"].to_list()[3:]):\n",
    "    words = text.split()\n",
    "    print('text', idx+3)    \n",
    "    all_candidate2score = dict()\n",
    "    for t in range(tries):\n",
    "        print(f\"Tries: {t+1}\")\n",
    "        if t == 0:\n",
    "            best_primes = scorer.get_perplexity(words)\n",
    "            candidates = np.array(words)[np.argsort(best_primes)[:beam_size]].tolist()\n",
    "        else:\n",
    "            candidates = np.random.choice(list(set(words)), beam_size, replace=False)\n",
    "\n",
    "        for i in range (len(words) - 1):\n",
    "            candidate2score = dict()\n",
    "            for candidate in candidates:\n",
    "                used_words, remaining_words = candidate.split(), text.split()\n",
    "                for word in used_words:\n",
    "                    remaining_words.remove(word)\n",
    "                input_texts = [(candidate + \" \" + word).strip() for word in remaining_words]\n",
    "                perplexities = scorer.get_perplexity(input_texts)\n",
    "                for input_text, ppl in zip(input_texts, perplexities):\n",
    "                    candidate2score[input_text] = ppl\n",
    "            candidate2score = dict(sorted(candidate2score.items(), key=lambda item: item[1]))\n",
    "            candidates = list(candidate2score.keys())[:beam_size]\n",
    "            if len(candidate2score) == 0:\n",
    "                print('candidate2score length 0')\n",
    "        all_candidate2score.update(candidate2score)\n",
    "    sorted_by_values = dict(sorted(all_candidate2score.items(), key=lambda item: item[1]))\n",
    "    best = list(sorted_by_values.items())[0]\n",
    "    df.loc[idx, \"beam_greedy_text\"] = best[0].strip()\n",
    "    \n",
    "    print(f\"{best} (Length match: {is_length_match})\")"
   ]
  },
  {
   "cell_type": "markdown",
   "metadata": {},
   "source": [
    "Best text for 5th row after 1st attempt:"
   ]
  },
  {
   "cell_type": "code",
   "execution_count": 24,
   "metadata": {
    "execution": {
     "iopub.execute_input": "2024-12-14T22:24:41.994696Z",
     "iopub.status.busy": "2024-12-14T22:24:41.994383Z",
     "iopub.status.idle": "2024-12-14T22:24:41.999867Z",
     "shell.execute_reply": "2024-12-14T22:24:41.999032Z",
     "shell.execute_reply.started": "2024-12-14T22:24:41.994666Z"
    }
   },
   "outputs": [],
   "source": [
    "sorted_by_values = dict(sorted(all_candidate2score.items(), key=lambda item: item[1]))\n",
    "best = list(sorted_by_values.items())[0]\n",
    "df.loc[idx, \"beam_greedy_text\"] = best[0].strip()"
   ]
  },
  {
   "cell_type": "code",
   "execution_count": 25,
   "metadata": {
    "execution": {
     "iopub.execute_input": "2024-12-14T22:24:50.841379Z",
     "iopub.status.busy": "2024-12-14T22:24:50.840991Z",
     "iopub.status.idle": "2024-12-14T22:24:50.847383Z",
     "shell.execute_reply": "2024-12-14T22:24:50.846400Z",
     "shell.execute_reply.started": "2024-12-14T22:24:50.841348Z"
    }
   },
   "outputs": [
    {
     "data": {
      "text/plain": [
       "('poinsettia yuletide eggnog fruitcake mistletoe nutcracker scrooge grinch snowglobe holly wreath gingerbread cookie peppermint candy sleigh reindeer elf stocking chimney chimney ornament fireplace fireplace ornament angel star candle carol holiday season joy peace cheer merry jingle wish dream believe hope family gifts wrapping paper bow card greeting hohoho laugh sing eat sleep relax unwrap give to and from the and the and the of in is you that it we with as have not of nice naughty night night visit toy doll game puzzle advent chocolate milk cheer jump bake walk drive decorations beard polar workshop workshop wonder magi kaggle',\n",
       " 82.92766733936132)"
      ]
     },
     "execution_count": 25,
     "metadata": {},
     "output_type": "execute_result"
    }
   ],
   "source": [
    "best"
   ]
  },
  {
   "cell_type": "code",
   "execution_count": 26,
   "metadata": {
    "execution": {
     "iopub.execute_input": "2024-12-14T22:26:00.369171Z",
     "iopub.status.busy": "2024-12-14T22:26:00.368381Z",
     "iopub.status.idle": "2024-12-14T22:26:00.375534Z",
     "shell.execute_reply": "2024-12-14T22:26:00.374716Z",
     "shell.execute_reply.started": "2024-12-14T22:26:00.369138Z"
    }
   },
   "outputs": [],
   "source": [
    "df.loc[0, \"beam_greedy_text\"] = 'reindeer mistletoe scrooge elf gingerbread chimney fireplace ornament family advent'\n",
    "df.loc[1, \"beam_greedy_text\"] = 'reindeer mistletoe elf scrooge gingerbread chimney fireplace ornament advent family night sleep walk laugh jump bake drive give and the'\n",
    "df.loc[2, \"beam_greedy_text\"] = 'nutcracker yuletide grinch gifts holiday decorations ornament stocking holly jingle sleigh carol naughty nice polar beard workshop chimney cheer magi'\n",
    "df.loc[3, \"beam_greedy_text\"] = 'ornament yuletide of the holiday decorations and gifts is unwrap stocking holly jingle sleigh nutcracker carol sing cheer cheer grinch naughty nice chimney visit polar beard workshop eat relax magi'\n",
    "df.loc[4, \"beam_greedy_text\"] = 'eggnog fruitcake chocolate poinsettia peppermint candy wreath snowglobe star angel candle cookie milk and the season of peace joy hope wish dream believe in wonder merry hohoho to you from we have it with wrapping paper bow greeting card toy doll game night puzzle fireplace that not as kaggle workshop'\n",
    "df.loc[5, \"beam_greedy_text\"] = 'poinsettia yuletide eggnog fruitcake mistletoe nutcracker scrooge grinch snowglobe holly wreath gingerbread cookie peppermint candy sleigh reindeer elf stocking chimney chimney ornament fireplace fireplace ornament angel star candle carol holiday season joy peace cheer merry jingle wish dream believe hope family gifts wrapping paper bow card greeting hohoho laugh sing eat sleep relax unwrap give to and from the and the and the of in is you that it we with as have not of nice naughty night night visit toy doll game puzzle advent chocolate milk cheer jump bake walk drive decorations beard polar workshop workshop wonder magi kaggle'"
   ]
  },
  {
   "cell_type": "code",
   "execution_count": 29,
   "metadata": {
    "execution": {
     "iopub.execute_input": "2024-12-14T22:27:29.494790Z",
     "iopub.status.busy": "2024-12-14T22:27:29.494448Z",
     "iopub.status.idle": "2024-12-14T22:27:29.501701Z",
     "shell.execute_reply": "2024-12-14T22:27:29.500783Z",
     "shell.execute_reply.started": "2024-12-14T22:27:29.494759Z"
    }
   },
   "outputs": [
    {
     "data": {
      "text/plain": [
       "0     10\n",
       "1     20\n",
       "2     20\n",
       "3     30\n",
       "4     50\n",
       "5    100\n",
       "Name: beam_greedy_text, dtype: int64"
      ]
     },
     "execution_count": 29,
     "metadata": {},
     "output_type": "execute_result"
    }
   ],
   "source": [
    "df['beam_greedy_text'].apply(lambda x: len(x.split()))"
   ]
  },
  {
   "cell_type": "code",
   "execution_count": 28,
   "metadata": {
    "execution": {
     "iopub.execute_input": "2024-12-14T22:26:19.352231Z",
     "iopub.status.busy": "2024-12-14T22:26:19.351429Z",
     "iopub.status.idle": "2024-12-14T22:26:19.371290Z",
     "shell.execute_reply": "2024-12-14T22:26:19.370472Z",
     "shell.execute_reply.started": "2024-12-14T22:26:19.352197Z"
    }
   },
   "outputs": [
    {
     "name": "stdout",
     "output_type": "stream",
     "text": [
      "submission created\n"
     ]
    }
   ],
   "source": [
    "submission = pd.DataFrame(columns=['id', 'text'])\n",
    "\n",
    "for idx, row in df.iterrows():\n",
    "\n",
    "    id = row.id\n",
    "    optimized_text = row.beam_greedy_text\n",
    "\n",
    "    submission.loc[idx] = {\n",
    "        'id': id,\n",
    "        'text': optimized_text\n",
    "    }\n",
    "\n",
    "submission.to_csv(\"submission_beam.csv\", index=False)\n",
    "\n",
    "print('submission created')"
   ]
  },
  {
   "cell_type": "code",
   "execution_count": null,
   "metadata": {},
   "outputs": [],
   "source": []
  },
  {
   "cell_type": "code",
   "execution_count": null,
   "metadata": {},
   "outputs": [],
   "source": []
  }
 ],
 "metadata": {
  "kaggle": {
   "accelerator": "nvidiaTeslaT4",
   "dataSources": [
    {
     "databundleVersionId": 10229277,
     "sourceId": 88046,
     "sourceType": "competition"
    },
    {
     "sourceId": 209577560,
     "sourceType": "kernelVersion"
    },
    {
     "isSourceIdPinned": true,
     "modelId": 76277,
     "modelInstanceId": 72255,
     "sourceId": 104492,
     "sourceType": "modelInstanceVersion"
    }
   ],
   "dockerImageVersionId": 30804,
   "isGpuEnabled": true,
   "isInternetEnabled": true,
   "language": "python",
   "sourceType": "notebook"
  },
  "kernelspec": {
   "display_name": "Python 3 (ipykernel)",
   "language": "python",
   "name": "python3"
  },
  "language_info": {
   "codemirror_mode": {
    "name": "ipython",
    "version": 3
   },
   "file_extension": ".py",
   "mimetype": "text/x-python",
   "name": "python",
   "nbconvert_exporter": "python",
   "pygments_lexer": "ipython3",
   "version": "3.11.8"
  }
 },
 "nbformat": 4,
 "nbformat_minor": 4
}
